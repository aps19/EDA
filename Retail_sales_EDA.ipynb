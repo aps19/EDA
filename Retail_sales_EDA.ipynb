{
  "nbformat": 4,
  "nbformat_minor": 0,
  "metadata": {
    "colab": {
      "name": "RetailPulse EDA.ipynb",
      "provenance": [],
      "collapsed_sections": [
        "bM1NYva6EWU8",
        "GGDnnZNS0DUT",
        "TtjjY_tSAiUD",
        "_0IVDx1roUZR"
      ]
    },
    "kernelspec": {
      "name": "python3",
      "display_name": "Python 3"
    },
    "language_info": {
      "name": "python"
    }
  },
  "cells": [
    {
      "cell_type": "markdown",
      "metadata": {
        "id": "vp01mkmNhYP2"
      },
      "source": [
        "# Importing Libraries"
      ]
    },
    {
      "cell_type": "code",
      "metadata": {
        "id": "Ud-7dYQ_hHHC"
      },
      "source": [
        "import matplotlib.pyplot as plt\n",
        "import seaborn as sns\n",
        "from sklearn.preprocessing import StandardScaler\n",
        "from sklearn.cluster import KMeans\n",
        "import numpy as np\n",
        "import math\n",
        "import pandas as pd\n",
        "import datetime as dt\n",
        "from scipy import stats\n",
        "from pandas.plotting import autocorrelation_plot\n",
        "sns.set()"
      ],
      "execution_count": null,
      "outputs": []
    },
    {
      "cell_type": "code",
      "metadata": {
        "id": "cJextOmfhiXY"
      },
      "source": [
        "data_sheet1 = pd.read_excel(\"Retail_Sales.xlsx\",sheet_name='Year 2009-2010')\n",
        "data_sheet2 = pd.read_excel(\"Retail_Sales.xlsx\",sheet_name='Year 2010-2011')"
      ],
      "execution_count": null,
      "outputs": []
    },
    {
      "cell_type": "code",
      "metadata": {
        "colab": {
          "base_uri": "https://localhost:8080/",
          "height": 363
        },
        "id": "FiAB47oxj3fI",
        "outputId": "6aa64dd3-0542-4866-bfd7-3870941abc85"
      },
      "source": [
        "data_sheet1.head(10)"
      ],
      "execution_count": null,
      "outputs": [
        {
          "output_type": "execute_result",
          "data": {
            "text/html": [
              "<div>\n",
              "<style scoped>\n",
              "    .dataframe tbody tr th:only-of-type {\n",
              "        vertical-align: middle;\n",
              "    }\n",
              "\n",
              "    .dataframe tbody tr th {\n",
              "        vertical-align: top;\n",
              "    }\n",
              "\n",
              "    .dataframe thead th {\n",
              "        text-align: right;\n",
              "    }\n",
              "</style>\n",
              "<table border=\"1\" class=\"dataframe\">\n",
              "  <thead>\n",
              "    <tr style=\"text-align: right;\">\n",
              "      <th></th>\n",
              "      <th>Invoice</th>\n",
              "      <th>StockCode</th>\n",
              "      <th>Description</th>\n",
              "      <th>Quantity</th>\n",
              "      <th>InvoiceDate</th>\n",
              "      <th>Price</th>\n",
              "      <th>Customer ID</th>\n",
              "      <th>Country</th>\n",
              "    </tr>\n",
              "  </thead>\n",
              "  <tbody>\n",
              "    <tr>\n",
              "      <th>0</th>\n",
              "      <td>489434</td>\n",
              "      <td>85048</td>\n",
              "      <td>15CM CHRISTMAS GLASS BALL 20 LIGHTS</td>\n",
              "      <td>12</td>\n",
              "      <td>2009-12-01 07:45:00</td>\n",
              "      <td>6.95</td>\n",
              "      <td>13085.0</td>\n",
              "      <td>United Kingdom</td>\n",
              "    </tr>\n",
              "    <tr>\n",
              "      <th>1</th>\n",
              "      <td>489434</td>\n",
              "      <td>79323P</td>\n",
              "      <td>PINK CHERRY LIGHTS</td>\n",
              "      <td>12</td>\n",
              "      <td>2009-12-01 07:45:00</td>\n",
              "      <td>6.75</td>\n",
              "      <td>13085.0</td>\n",
              "      <td>United Kingdom</td>\n",
              "    </tr>\n",
              "    <tr>\n",
              "      <th>2</th>\n",
              "      <td>489434</td>\n",
              "      <td>79323W</td>\n",
              "      <td>WHITE CHERRY LIGHTS</td>\n",
              "      <td>12</td>\n",
              "      <td>2009-12-01 07:45:00</td>\n",
              "      <td>6.75</td>\n",
              "      <td>13085.0</td>\n",
              "      <td>United Kingdom</td>\n",
              "    </tr>\n",
              "    <tr>\n",
              "      <th>3</th>\n",
              "      <td>489434</td>\n",
              "      <td>22041</td>\n",
              "      <td>RECORD FRAME 7\" SINGLE SIZE</td>\n",
              "      <td>48</td>\n",
              "      <td>2009-12-01 07:45:00</td>\n",
              "      <td>2.10</td>\n",
              "      <td>13085.0</td>\n",
              "      <td>United Kingdom</td>\n",
              "    </tr>\n",
              "    <tr>\n",
              "      <th>4</th>\n",
              "      <td>489434</td>\n",
              "      <td>21232</td>\n",
              "      <td>STRAWBERRY CERAMIC TRINKET BOX</td>\n",
              "      <td>24</td>\n",
              "      <td>2009-12-01 07:45:00</td>\n",
              "      <td>1.25</td>\n",
              "      <td>13085.0</td>\n",
              "      <td>United Kingdom</td>\n",
              "    </tr>\n",
              "    <tr>\n",
              "      <th>5</th>\n",
              "      <td>489434</td>\n",
              "      <td>22064</td>\n",
              "      <td>PINK DOUGHNUT TRINKET POT</td>\n",
              "      <td>24</td>\n",
              "      <td>2009-12-01 07:45:00</td>\n",
              "      <td>1.65</td>\n",
              "      <td>13085.0</td>\n",
              "      <td>United Kingdom</td>\n",
              "    </tr>\n",
              "    <tr>\n",
              "      <th>6</th>\n",
              "      <td>489434</td>\n",
              "      <td>21871</td>\n",
              "      <td>SAVE THE PLANET MUG</td>\n",
              "      <td>24</td>\n",
              "      <td>2009-12-01 07:45:00</td>\n",
              "      <td>1.25</td>\n",
              "      <td>13085.0</td>\n",
              "      <td>United Kingdom</td>\n",
              "    </tr>\n",
              "    <tr>\n",
              "      <th>7</th>\n",
              "      <td>489434</td>\n",
              "      <td>21523</td>\n",
              "      <td>FANCY FONT HOME SWEET HOME DOORMAT</td>\n",
              "      <td>10</td>\n",
              "      <td>2009-12-01 07:45:00</td>\n",
              "      <td>5.95</td>\n",
              "      <td>13085.0</td>\n",
              "      <td>United Kingdom</td>\n",
              "    </tr>\n",
              "    <tr>\n",
              "      <th>8</th>\n",
              "      <td>489435</td>\n",
              "      <td>22350</td>\n",
              "      <td>CAT BOWL</td>\n",
              "      <td>12</td>\n",
              "      <td>2009-12-01 07:46:00</td>\n",
              "      <td>2.55</td>\n",
              "      <td>13085.0</td>\n",
              "      <td>United Kingdom</td>\n",
              "    </tr>\n",
              "    <tr>\n",
              "      <th>9</th>\n",
              "      <td>489435</td>\n",
              "      <td>22349</td>\n",
              "      <td>DOG BOWL , CHASING BALL DESIGN</td>\n",
              "      <td>12</td>\n",
              "      <td>2009-12-01 07:46:00</td>\n",
              "      <td>3.75</td>\n",
              "      <td>13085.0</td>\n",
              "      <td>United Kingdom</td>\n",
              "    </tr>\n",
              "  </tbody>\n",
              "</table>\n",
              "</div>"
            ],
            "text/plain": [
              "  Invoice StockCode  ... Customer ID         Country\n",
              "0  489434     85048  ...     13085.0  United Kingdom\n",
              "1  489434    79323P  ...     13085.0  United Kingdom\n",
              "2  489434    79323W  ...     13085.0  United Kingdom\n",
              "3  489434     22041  ...     13085.0  United Kingdom\n",
              "4  489434     21232  ...     13085.0  United Kingdom\n",
              "5  489434     22064  ...     13085.0  United Kingdom\n",
              "6  489434     21871  ...     13085.0  United Kingdom\n",
              "7  489434     21523  ...     13085.0  United Kingdom\n",
              "8  489435     22350  ...     13085.0  United Kingdom\n",
              "9  489435     22349  ...     13085.0  United Kingdom\n",
              "\n",
              "[10 rows x 8 columns]"
            ]
          },
          "metadata": {},
          "execution_count": 3
        }
      ]
    },
    {
      "cell_type": "code",
      "metadata": {
        "colab": {
          "base_uri": "https://localhost:8080/",
          "height": 363
        },
        "id": "DbwsO9GLj-sG",
        "outputId": "91bcd7b5-7c30-437e-aa62-023408d6c66e"
      },
      "source": [
        "data_sheet2.head(10)"
      ],
      "execution_count": null,
      "outputs": [
        {
          "output_type": "execute_result",
          "data": {
            "text/html": [
              "<div>\n",
              "<style scoped>\n",
              "    .dataframe tbody tr th:only-of-type {\n",
              "        vertical-align: middle;\n",
              "    }\n",
              "\n",
              "    .dataframe tbody tr th {\n",
              "        vertical-align: top;\n",
              "    }\n",
              "\n",
              "    .dataframe thead th {\n",
              "        text-align: right;\n",
              "    }\n",
              "</style>\n",
              "<table border=\"1\" class=\"dataframe\">\n",
              "  <thead>\n",
              "    <tr style=\"text-align: right;\">\n",
              "      <th></th>\n",
              "      <th>Invoice</th>\n",
              "      <th>StockCode</th>\n",
              "      <th>Description</th>\n",
              "      <th>Quantity</th>\n",
              "      <th>InvoiceDate</th>\n",
              "      <th>Price</th>\n",
              "      <th>Customer ID</th>\n",
              "      <th>Country</th>\n",
              "    </tr>\n",
              "  </thead>\n",
              "  <tbody>\n",
              "    <tr>\n",
              "      <th>0</th>\n",
              "      <td>536365</td>\n",
              "      <td>85123A</td>\n",
              "      <td>WHITE HANGING HEART T-LIGHT HOLDER</td>\n",
              "      <td>6</td>\n",
              "      <td>2010-12-01 08:26:00</td>\n",
              "      <td>2.55</td>\n",
              "      <td>17850.0</td>\n",
              "      <td>United Kingdom</td>\n",
              "    </tr>\n",
              "    <tr>\n",
              "      <th>1</th>\n",
              "      <td>536365</td>\n",
              "      <td>71053</td>\n",
              "      <td>WHITE METAL LANTERN</td>\n",
              "      <td>6</td>\n",
              "      <td>2010-12-01 08:26:00</td>\n",
              "      <td>3.39</td>\n",
              "      <td>17850.0</td>\n",
              "      <td>United Kingdom</td>\n",
              "    </tr>\n",
              "    <tr>\n",
              "      <th>2</th>\n",
              "      <td>536365</td>\n",
              "      <td>84406B</td>\n",
              "      <td>CREAM CUPID HEARTS COAT HANGER</td>\n",
              "      <td>8</td>\n",
              "      <td>2010-12-01 08:26:00</td>\n",
              "      <td>2.75</td>\n",
              "      <td>17850.0</td>\n",
              "      <td>United Kingdom</td>\n",
              "    </tr>\n",
              "    <tr>\n",
              "      <th>3</th>\n",
              "      <td>536365</td>\n",
              "      <td>84029G</td>\n",
              "      <td>KNITTED UNION FLAG HOT WATER BOTTLE</td>\n",
              "      <td>6</td>\n",
              "      <td>2010-12-01 08:26:00</td>\n",
              "      <td>3.39</td>\n",
              "      <td>17850.0</td>\n",
              "      <td>United Kingdom</td>\n",
              "    </tr>\n",
              "    <tr>\n",
              "      <th>4</th>\n",
              "      <td>536365</td>\n",
              "      <td>84029E</td>\n",
              "      <td>RED WOOLLY HOTTIE WHITE HEART.</td>\n",
              "      <td>6</td>\n",
              "      <td>2010-12-01 08:26:00</td>\n",
              "      <td>3.39</td>\n",
              "      <td>17850.0</td>\n",
              "      <td>United Kingdom</td>\n",
              "    </tr>\n",
              "    <tr>\n",
              "      <th>5</th>\n",
              "      <td>536365</td>\n",
              "      <td>22752</td>\n",
              "      <td>SET 7 BABUSHKA NESTING BOXES</td>\n",
              "      <td>2</td>\n",
              "      <td>2010-12-01 08:26:00</td>\n",
              "      <td>7.65</td>\n",
              "      <td>17850.0</td>\n",
              "      <td>United Kingdom</td>\n",
              "    </tr>\n",
              "    <tr>\n",
              "      <th>6</th>\n",
              "      <td>536365</td>\n",
              "      <td>21730</td>\n",
              "      <td>GLASS STAR FROSTED T-LIGHT HOLDER</td>\n",
              "      <td>6</td>\n",
              "      <td>2010-12-01 08:26:00</td>\n",
              "      <td>4.25</td>\n",
              "      <td>17850.0</td>\n",
              "      <td>United Kingdom</td>\n",
              "    </tr>\n",
              "    <tr>\n",
              "      <th>7</th>\n",
              "      <td>536366</td>\n",
              "      <td>22633</td>\n",
              "      <td>HAND WARMER UNION JACK</td>\n",
              "      <td>6</td>\n",
              "      <td>2010-12-01 08:28:00</td>\n",
              "      <td>1.85</td>\n",
              "      <td>17850.0</td>\n",
              "      <td>United Kingdom</td>\n",
              "    </tr>\n",
              "    <tr>\n",
              "      <th>8</th>\n",
              "      <td>536366</td>\n",
              "      <td>22632</td>\n",
              "      <td>HAND WARMER RED POLKA DOT</td>\n",
              "      <td>6</td>\n",
              "      <td>2010-12-01 08:28:00</td>\n",
              "      <td>1.85</td>\n",
              "      <td>17850.0</td>\n",
              "      <td>United Kingdom</td>\n",
              "    </tr>\n",
              "    <tr>\n",
              "      <th>9</th>\n",
              "      <td>536368</td>\n",
              "      <td>22960</td>\n",
              "      <td>JAM MAKING SET WITH JARS</td>\n",
              "      <td>6</td>\n",
              "      <td>2010-12-01 08:34:00</td>\n",
              "      <td>4.25</td>\n",
              "      <td>13047.0</td>\n",
              "      <td>United Kingdom</td>\n",
              "    </tr>\n",
              "  </tbody>\n",
              "</table>\n",
              "</div>"
            ],
            "text/plain": [
              "  Invoice StockCode  ... Customer ID         Country\n",
              "0  536365    85123A  ...     17850.0  United Kingdom\n",
              "1  536365     71053  ...     17850.0  United Kingdom\n",
              "2  536365    84406B  ...     17850.0  United Kingdom\n",
              "3  536365    84029G  ...     17850.0  United Kingdom\n",
              "4  536365    84029E  ...     17850.0  United Kingdom\n",
              "5  536365     22752  ...     17850.0  United Kingdom\n",
              "6  536365     21730  ...     17850.0  United Kingdom\n",
              "7  536366     22633  ...     17850.0  United Kingdom\n",
              "8  536366     22632  ...     17850.0  United Kingdom\n",
              "9  536368     22960  ...     13047.0  United Kingdom\n",
              "\n",
              "[10 rows x 8 columns]"
            ]
          },
          "metadata": {},
          "execution_count": 4
        }
      ]
    },
    {
      "cell_type": "code",
      "metadata": {
        "colab": {
          "base_uri": "https://localhost:8080/"
        },
        "id": "CWMZje-OBfv7",
        "outputId": "2c777c8e-c46b-459e-fca9-435dceea7849"
      },
      "source": [
        "data_sheet1.dtypes"
      ],
      "execution_count": null,
      "outputs": [
        {
          "output_type": "execute_result",
          "data": {
            "text/plain": [
              "Invoice                object\n",
              "StockCode              object\n",
              "Description            object\n",
              "Quantity                int64\n",
              "InvoiceDate    datetime64[ns]\n",
              "Price                 float64\n",
              "Customer ID           float64\n",
              "Country                object\n",
              "dtype: object"
            ]
          },
          "metadata": {},
          "execution_count": 5
        }
      ]
    },
    {
      "cell_type": "code",
      "metadata": {
        "colab": {
          "base_uri": "https://localhost:8080/"
        },
        "id": "QG-WtYbFBoEU",
        "outputId": "3f896382-287e-4825-c00d-e4aa1b392986"
      },
      "source": [
        "data_sheet2.dtypes"
      ],
      "execution_count": null,
      "outputs": [
        {
          "output_type": "execute_result",
          "data": {
            "text/plain": [
              "Invoice                object\n",
              "StockCode              object\n",
              "Description            object\n",
              "Quantity                int64\n",
              "InvoiceDate    datetime64[ns]\n",
              "Price                 float64\n",
              "Customer ID           float64\n",
              "Country                object\n",
              "dtype: object"
            ]
          },
          "metadata": {},
          "execution_count": 6
        }
      ]
    },
    {
      "cell_type": "code",
      "metadata": {
        "colab": {
          "base_uri": "https://localhost:8080/"
        },
        "id": "m19UM_RmlHrz",
        "outputId": "a2ad23bf-d64a-45a8-e8c7-02edbdf85748"
      },
      "source": [
        "data_sheet1.info"
      ],
      "execution_count": null,
      "outputs": [
        {
          "output_type": "execute_result",
          "data": {
            "text/plain": [
              "<bound method DataFrame.info of        Invoice StockCode  ... Customer ID         Country\n",
              "0       489434     85048  ...     13085.0  United Kingdom\n",
              "1       489434    79323P  ...     13085.0  United Kingdom\n",
              "2       489434    79323W  ...     13085.0  United Kingdom\n",
              "3       489434     22041  ...     13085.0  United Kingdom\n",
              "4       489434     21232  ...     13085.0  United Kingdom\n",
              "...        ...       ...  ...         ...             ...\n",
              "525456  538171     22271  ...     17530.0  United Kingdom\n",
              "525457  538171     22750  ...     17530.0  United Kingdom\n",
              "525458  538171     22751  ...     17530.0  United Kingdom\n",
              "525459  538171     20970  ...     17530.0  United Kingdom\n",
              "525460  538171     21931  ...     17530.0  United Kingdom\n",
              "\n",
              "[525461 rows x 8 columns]>"
            ]
          },
          "metadata": {},
          "execution_count": 7
        }
      ]
    },
    {
      "cell_type": "code",
      "metadata": {
        "colab": {
          "base_uri": "https://localhost:8080/"
        },
        "id": "-nxxnafhlZzk",
        "outputId": "84007df6-8e94-4fce-bb9a-4178d24cee9f"
      },
      "source": [
        "data_sheet2.info"
      ],
      "execution_count": null,
      "outputs": [
        {
          "output_type": "execute_result",
          "data": {
            "text/plain": [
              "<bound method DataFrame.info of        Invoice StockCode  ... Customer ID         Country\n",
              "0       536365    85123A  ...     17850.0  United Kingdom\n",
              "1       536365     71053  ...     17850.0  United Kingdom\n",
              "2       536365    84406B  ...     17850.0  United Kingdom\n",
              "3       536365    84029G  ...     17850.0  United Kingdom\n",
              "4       536365    84029E  ...     17850.0  United Kingdom\n",
              "...        ...       ...  ...         ...             ...\n",
              "541905  581587     22899  ...     12680.0          France\n",
              "541906  581587     23254  ...     12680.0          France\n",
              "541907  581587     23255  ...     12680.0          France\n",
              "541908  581587     22138  ...     12680.0          France\n",
              "541909  581587      POST  ...     12680.0          France\n",
              "\n",
              "[541910 rows x 8 columns]>"
            ]
          },
          "metadata": {},
          "execution_count": 8
        }
      ]
    },
    {
      "cell_type": "code",
      "metadata": {
        "id": "vdPYfokEoGKp"
      },
      "source": [
        "# Merging both sheets to get a single dataframe\n",
        "dataframe = pd.concat([data_sheet1, data_sheet2], ignore_index=True, sort=False)"
      ],
      "execution_count": null,
      "outputs": []
    },
    {
      "cell_type": "code",
      "metadata": {
        "colab": {
          "base_uri": "https://localhost:8080/"
        },
        "id": "1do2ff_Gn-XT",
        "outputId": "75906028-0d93-4fe4-f145-b672a06a1288"
      },
      "source": [
        "dataframe.isnull().sum()"
      ],
      "execution_count": null,
      "outputs": [
        {
          "output_type": "execute_result",
          "data": {
            "text/plain": [
              "Invoice             0\n",
              "StockCode           0\n",
              "Description      4382\n",
              "Quantity            0\n",
              "InvoiceDate         0\n",
              "Price               0\n",
              "Customer ID    243007\n",
              "Country             0\n",
              "dtype: int64"
            ]
          },
          "metadata": {},
          "execution_count": 10
        }
      ]
    },
    {
      "cell_type": "code",
      "metadata": {
        "colab": {
          "base_uri": "https://localhost:8080/",
          "height": 300
        },
        "id": "mINZTy3pmMlN",
        "outputId": "d73878f6-7576-4ba6-ffbe-b19ca36ea9b2"
      },
      "source": [
        "dataframe.describe()"
      ],
      "execution_count": null,
      "outputs": [
        {
          "output_type": "execute_result",
          "data": {
            "text/html": [
              "<div>\n",
              "<style scoped>\n",
              "    .dataframe tbody tr th:only-of-type {\n",
              "        vertical-align: middle;\n",
              "    }\n",
              "\n",
              "    .dataframe tbody tr th {\n",
              "        vertical-align: top;\n",
              "    }\n",
              "\n",
              "    .dataframe thead th {\n",
              "        text-align: right;\n",
              "    }\n",
              "</style>\n",
              "<table border=\"1\" class=\"dataframe\">\n",
              "  <thead>\n",
              "    <tr style=\"text-align: right;\">\n",
              "      <th></th>\n",
              "      <th>Quantity</th>\n",
              "      <th>Price</th>\n",
              "      <th>Customer ID</th>\n",
              "    </tr>\n",
              "  </thead>\n",
              "  <tbody>\n",
              "    <tr>\n",
              "      <th>count</th>\n",
              "      <td>1.067371e+06</td>\n",
              "      <td>1.067371e+06</td>\n",
              "      <td>824364.000000</td>\n",
              "    </tr>\n",
              "    <tr>\n",
              "      <th>mean</th>\n",
              "      <td>9.938898e+00</td>\n",
              "      <td>4.649388e+00</td>\n",
              "      <td>15324.638504</td>\n",
              "    </tr>\n",
              "    <tr>\n",
              "      <th>std</th>\n",
              "      <td>1.727058e+02</td>\n",
              "      <td>1.235531e+02</td>\n",
              "      <td>1697.464450</td>\n",
              "    </tr>\n",
              "    <tr>\n",
              "      <th>min</th>\n",
              "      <td>-8.099500e+04</td>\n",
              "      <td>-5.359436e+04</td>\n",
              "      <td>12346.000000</td>\n",
              "    </tr>\n",
              "    <tr>\n",
              "      <th>25%</th>\n",
              "      <td>1.000000e+00</td>\n",
              "      <td>1.250000e+00</td>\n",
              "      <td>13975.000000</td>\n",
              "    </tr>\n",
              "    <tr>\n",
              "      <th>50%</th>\n",
              "      <td>3.000000e+00</td>\n",
              "      <td>2.100000e+00</td>\n",
              "      <td>15255.000000</td>\n",
              "    </tr>\n",
              "    <tr>\n",
              "      <th>75%</th>\n",
              "      <td>1.000000e+01</td>\n",
              "      <td>4.150000e+00</td>\n",
              "      <td>16797.000000</td>\n",
              "    </tr>\n",
              "    <tr>\n",
              "      <th>max</th>\n",
              "      <td>8.099500e+04</td>\n",
              "      <td>3.897000e+04</td>\n",
              "      <td>18287.000000</td>\n",
              "    </tr>\n",
              "  </tbody>\n",
              "</table>\n",
              "</div>"
            ],
            "text/plain": [
              "           Quantity         Price    Customer ID\n",
              "count  1.067371e+06  1.067371e+06  824364.000000\n",
              "mean   9.938898e+00  4.649388e+00   15324.638504\n",
              "std    1.727058e+02  1.235531e+02    1697.464450\n",
              "min   -8.099500e+04 -5.359436e+04   12346.000000\n",
              "25%    1.000000e+00  1.250000e+00   13975.000000\n",
              "50%    3.000000e+00  2.100000e+00   15255.000000\n",
              "75%    1.000000e+01  4.150000e+00   16797.000000\n",
              "max    8.099500e+04  3.897000e+04   18287.000000"
            ]
          },
          "metadata": {},
          "execution_count": 11
        }
      ]
    },
    {
      "cell_type": "code",
      "metadata": {
        "colab": {
          "base_uri": "https://localhost:8080/",
          "height": 423
        },
        "id": "3d9qrH8apXVO",
        "outputId": "fcfe130a-5db5-4c59-ebd3-278939ca36f5"
      },
      "source": [
        "dataframe"
      ],
      "execution_count": null,
      "outputs": [
        {
          "output_type": "execute_result",
          "data": {
            "text/html": [
              "<div>\n",
              "<style scoped>\n",
              "    .dataframe tbody tr th:only-of-type {\n",
              "        vertical-align: middle;\n",
              "    }\n",
              "\n",
              "    .dataframe tbody tr th {\n",
              "        vertical-align: top;\n",
              "    }\n",
              "\n",
              "    .dataframe thead th {\n",
              "        text-align: right;\n",
              "    }\n",
              "</style>\n",
              "<table border=\"1\" class=\"dataframe\">\n",
              "  <thead>\n",
              "    <tr style=\"text-align: right;\">\n",
              "      <th></th>\n",
              "      <th>Invoice</th>\n",
              "      <th>StockCode</th>\n",
              "      <th>Description</th>\n",
              "      <th>Quantity</th>\n",
              "      <th>InvoiceDate</th>\n",
              "      <th>Price</th>\n",
              "      <th>Customer ID</th>\n",
              "      <th>Country</th>\n",
              "    </tr>\n",
              "  </thead>\n",
              "  <tbody>\n",
              "    <tr>\n",
              "      <th>0</th>\n",
              "      <td>489434</td>\n",
              "      <td>85048</td>\n",
              "      <td>15CM CHRISTMAS GLASS BALL 20 LIGHTS</td>\n",
              "      <td>12</td>\n",
              "      <td>2009-12-01 07:45:00</td>\n",
              "      <td>6.95</td>\n",
              "      <td>13085.0</td>\n",
              "      <td>United Kingdom</td>\n",
              "    </tr>\n",
              "    <tr>\n",
              "      <th>1</th>\n",
              "      <td>489434</td>\n",
              "      <td>79323P</td>\n",
              "      <td>PINK CHERRY LIGHTS</td>\n",
              "      <td>12</td>\n",
              "      <td>2009-12-01 07:45:00</td>\n",
              "      <td>6.75</td>\n",
              "      <td>13085.0</td>\n",
              "      <td>United Kingdom</td>\n",
              "    </tr>\n",
              "    <tr>\n",
              "      <th>2</th>\n",
              "      <td>489434</td>\n",
              "      <td>79323W</td>\n",
              "      <td>WHITE CHERRY LIGHTS</td>\n",
              "      <td>12</td>\n",
              "      <td>2009-12-01 07:45:00</td>\n",
              "      <td>6.75</td>\n",
              "      <td>13085.0</td>\n",
              "      <td>United Kingdom</td>\n",
              "    </tr>\n",
              "    <tr>\n",
              "      <th>3</th>\n",
              "      <td>489434</td>\n",
              "      <td>22041</td>\n",
              "      <td>RECORD FRAME 7\" SINGLE SIZE</td>\n",
              "      <td>48</td>\n",
              "      <td>2009-12-01 07:45:00</td>\n",
              "      <td>2.10</td>\n",
              "      <td>13085.0</td>\n",
              "      <td>United Kingdom</td>\n",
              "    </tr>\n",
              "    <tr>\n",
              "      <th>4</th>\n",
              "      <td>489434</td>\n",
              "      <td>21232</td>\n",
              "      <td>STRAWBERRY CERAMIC TRINKET BOX</td>\n",
              "      <td>24</td>\n",
              "      <td>2009-12-01 07:45:00</td>\n",
              "      <td>1.25</td>\n",
              "      <td>13085.0</td>\n",
              "      <td>United Kingdom</td>\n",
              "    </tr>\n",
              "    <tr>\n",
              "      <th>...</th>\n",
              "      <td>...</td>\n",
              "      <td>...</td>\n",
              "      <td>...</td>\n",
              "      <td>...</td>\n",
              "      <td>...</td>\n",
              "      <td>...</td>\n",
              "      <td>...</td>\n",
              "      <td>...</td>\n",
              "    </tr>\n",
              "    <tr>\n",
              "      <th>1067366</th>\n",
              "      <td>581587</td>\n",
              "      <td>22899</td>\n",
              "      <td>CHILDREN'S APRON DOLLY GIRL</td>\n",
              "      <td>6</td>\n",
              "      <td>2011-12-09 12:50:00</td>\n",
              "      <td>2.10</td>\n",
              "      <td>12680.0</td>\n",
              "      <td>France</td>\n",
              "    </tr>\n",
              "    <tr>\n",
              "      <th>1067367</th>\n",
              "      <td>581587</td>\n",
              "      <td>23254</td>\n",
              "      <td>CHILDRENS CUTLERY DOLLY GIRL</td>\n",
              "      <td>4</td>\n",
              "      <td>2011-12-09 12:50:00</td>\n",
              "      <td>4.15</td>\n",
              "      <td>12680.0</td>\n",
              "      <td>France</td>\n",
              "    </tr>\n",
              "    <tr>\n",
              "      <th>1067368</th>\n",
              "      <td>581587</td>\n",
              "      <td>23255</td>\n",
              "      <td>CHILDRENS CUTLERY CIRCUS PARADE</td>\n",
              "      <td>4</td>\n",
              "      <td>2011-12-09 12:50:00</td>\n",
              "      <td>4.15</td>\n",
              "      <td>12680.0</td>\n",
              "      <td>France</td>\n",
              "    </tr>\n",
              "    <tr>\n",
              "      <th>1067369</th>\n",
              "      <td>581587</td>\n",
              "      <td>22138</td>\n",
              "      <td>BAKING SET 9 PIECE RETROSPOT</td>\n",
              "      <td>3</td>\n",
              "      <td>2011-12-09 12:50:00</td>\n",
              "      <td>4.95</td>\n",
              "      <td>12680.0</td>\n",
              "      <td>France</td>\n",
              "    </tr>\n",
              "    <tr>\n",
              "      <th>1067370</th>\n",
              "      <td>581587</td>\n",
              "      <td>POST</td>\n",
              "      <td>POSTAGE</td>\n",
              "      <td>1</td>\n",
              "      <td>2011-12-09 12:50:00</td>\n",
              "      <td>18.00</td>\n",
              "      <td>12680.0</td>\n",
              "      <td>France</td>\n",
              "    </tr>\n",
              "  </tbody>\n",
              "</table>\n",
              "<p>1067371 rows × 8 columns</p>\n",
              "</div>"
            ],
            "text/plain": [
              "        Invoice StockCode  ... Customer ID         Country\n",
              "0        489434     85048  ...     13085.0  United Kingdom\n",
              "1        489434    79323P  ...     13085.0  United Kingdom\n",
              "2        489434    79323W  ...     13085.0  United Kingdom\n",
              "3        489434     22041  ...     13085.0  United Kingdom\n",
              "4        489434     21232  ...     13085.0  United Kingdom\n",
              "...         ...       ...  ...         ...             ...\n",
              "1067366  581587     22899  ...     12680.0          France\n",
              "1067367  581587     23254  ...     12680.0          France\n",
              "1067368  581587     23255  ...     12680.0          France\n",
              "1067369  581587     22138  ...     12680.0          France\n",
              "1067370  581587      POST  ...     12680.0          France\n",
              "\n",
              "[1067371 rows x 8 columns]"
            ]
          },
          "metadata": {},
          "execution_count": 12
        }
      ]
    },
    {
      "cell_type": "code",
      "metadata": {
        "colab": {
          "base_uri": "https://localhost:8080/"
        },
        "id": "x6c5mptDpZeU",
        "outputId": "3aa10faa-beb7-4991-9574-c79a3845bb90"
      },
      "source": [
        "dataframe.info()"
      ],
      "execution_count": null,
      "outputs": [
        {
          "output_type": "stream",
          "name": "stdout",
          "text": [
            "<class 'pandas.core.frame.DataFrame'>\n",
            "RangeIndex: 1067371 entries, 0 to 1067370\n",
            "Data columns (total 8 columns):\n",
            " #   Column       Non-Null Count    Dtype         \n",
            "---  ------       --------------    -----         \n",
            " 0   Invoice      1067371 non-null  object        \n",
            " 1   StockCode    1067371 non-null  object        \n",
            " 2   Description  1062989 non-null  object        \n",
            " 3   Quantity     1067371 non-null  int64         \n",
            " 4   InvoiceDate  1067371 non-null  datetime64[ns]\n",
            " 5   Price        1067371 non-null  float64       \n",
            " 6   Customer ID  824364 non-null   float64       \n",
            " 7   Country      1067371 non-null  object        \n",
            "dtypes: datetime64[ns](1), float64(2), int64(1), object(4)\n",
            "memory usage: 65.1+ MB\n"
          ]
        }
      ]
    },
    {
      "cell_type": "markdown",
      "metadata": {
        "id": "A9djkZfCpspj"
      },
      "source": [
        "Checking if the Sale is made on Weekend or Weekday"
      ]
    },
    {
      "cell_type": "code",
      "metadata": {
        "colab": {
          "base_uri": "https://localhost:8080/",
          "height": 310
        },
        "id": "0JwqkOHCplQ1",
        "outputId": "e4385e43-cfa7-4fb4-baac-5a56d2f55cba"
      },
      "source": [
        "dataframe[\"DayOfMonth\"] = (dataframe[\"InvoiceDate\"]).dt.day\n",
        "dataframe[\"IsWeekend\"] = (dataframe['InvoiceDate'].dt.dayofweek >= 5).astype(int)\n",
        "dataframe.head()"
      ],
      "execution_count": null,
      "outputs": [
        {
          "output_type": "execute_result",
          "data": {
            "text/html": [
              "<div>\n",
              "<style scoped>\n",
              "    .dataframe tbody tr th:only-of-type {\n",
              "        vertical-align: middle;\n",
              "    }\n",
              "\n",
              "    .dataframe tbody tr th {\n",
              "        vertical-align: top;\n",
              "    }\n",
              "\n",
              "    .dataframe thead th {\n",
              "        text-align: right;\n",
              "    }\n",
              "</style>\n",
              "<table border=\"1\" class=\"dataframe\">\n",
              "  <thead>\n",
              "    <tr style=\"text-align: right;\">\n",
              "      <th></th>\n",
              "      <th>Invoice</th>\n",
              "      <th>StockCode</th>\n",
              "      <th>Description</th>\n",
              "      <th>Quantity</th>\n",
              "      <th>InvoiceDate</th>\n",
              "      <th>Price</th>\n",
              "      <th>Customer ID</th>\n",
              "      <th>Country</th>\n",
              "      <th>DayOfMonth</th>\n",
              "      <th>IsWeekend</th>\n",
              "    </tr>\n",
              "  </thead>\n",
              "  <tbody>\n",
              "    <tr>\n",
              "      <th>0</th>\n",
              "      <td>489434</td>\n",
              "      <td>85048</td>\n",
              "      <td>15CM CHRISTMAS GLASS BALL 20 LIGHTS</td>\n",
              "      <td>12</td>\n",
              "      <td>2009-12-01 07:45:00</td>\n",
              "      <td>6.95</td>\n",
              "      <td>13085.0</td>\n",
              "      <td>United Kingdom</td>\n",
              "      <td>1</td>\n",
              "      <td>0</td>\n",
              "    </tr>\n",
              "    <tr>\n",
              "      <th>1</th>\n",
              "      <td>489434</td>\n",
              "      <td>79323P</td>\n",
              "      <td>PINK CHERRY LIGHTS</td>\n",
              "      <td>12</td>\n",
              "      <td>2009-12-01 07:45:00</td>\n",
              "      <td>6.75</td>\n",
              "      <td>13085.0</td>\n",
              "      <td>United Kingdom</td>\n",
              "      <td>1</td>\n",
              "      <td>0</td>\n",
              "    </tr>\n",
              "    <tr>\n",
              "      <th>2</th>\n",
              "      <td>489434</td>\n",
              "      <td>79323W</td>\n",
              "      <td>WHITE CHERRY LIGHTS</td>\n",
              "      <td>12</td>\n",
              "      <td>2009-12-01 07:45:00</td>\n",
              "      <td>6.75</td>\n",
              "      <td>13085.0</td>\n",
              "      <td>United Kingdom</td>\n",
              "      <td>1</td>\n",
              "      <td>0</td>\n",
              "    </tr>\n",
              "    <tr>\n",
              "      <th>3</th>\n",
              "      <td>489434</td>\n",
              "      <td>22041</td>\n",
              "      <td>RECORD FRAME 7\" SINGLE SIZE</td>\n",
              "      <td>48</td>\n",
              "      <td>2009-12-01 07:45:00</td>\n",
              "      <td>2.10</td>\n",
              "      <td>13085.0</td>\n",
              "      <td>United Kingdom</td>\n",
              "      <td>1</td>\n",
              "      <td>0</td>\n",
              "    </tr>\n",
              "    <tr>\n",
              "      <th>4</th>\n",
              "      <td>489434</td>\n",
              "      <td>21232</td>\n",
              "      <td>STRAWBERRY CERAMIC TRINKET BOX</td>\n",
              "      <td>24</td>\n",
              "      <td>2009-12-01 07:45:00</td>\n",
              "      <td>1.25</td>\n",
              "      <td>13085.0</td>\n",
              "      <td>United Kingdom</td>\n",
              "      <td>1</td>\n",
              "      <td>0</td>\n",
              "    </tr>\n",
              "  </tbody>\n",
              "</table>\n",
              "</div>"
            ],
            "text/plain": [
              "  Invoice StockCode  ... DayOfMonth  IsWeekend\n",
              "0  489434     85048  ...          1          0\n",
              "1  489434    79323P  ...          1          0\n",
              "2  489434    79323W  ...          1          0\n",
              "3  489434     22041  ...          1          0\n",
              "4  489434     21232  ...          1          0\n",
              "\n",
              "[5 rows x 10 columns]"
            ]
          },
          "metadata": {},
          "execution_count": 14
        }
      ]
    },
    {
      "cell_type": "code",
      "metadata": {
        "colab": {
          "base_uri": "https://localhost:8080/"
        },
        "id": "AUgOY-W84Ult",
        "outputId": "ce96508f-56f7-4616-87f9-04b46b43ce52"
      },
      "source": [
        "#Cehcking the distribution of 'IsWeekend' column\n",
        "dataframe.IsWeekend.value_counts()"
      ],
      "execution_count": null,
      "outputs": [
        {
          "output_type": "execute_result",
          "data": {
            "text/plain": [
              "0    927713\n",
              "1    139658\n",
              "Name: IsWeekend, dtype: int64"
            ]
          },
          "metadata": {},
          "execution_count": 15
        }
      ]
    },
    {
      "cell_type": "code",
      "metadata": {
        "colab": {
          "base_uri": "https://localhost:8080/",
          "height": 614
        },
        "id": "iegPPlDdIFvM",
        "outputId": "1d6b66d3-7029-45b3-b66e-a0ead6537049"
      },
      "source": [
        "dataframe['BillValue'] = dataframe['Price'] * dataframe['Quantity']\n",
        "dataframe"
      ],
      "execution_count": null,
      "outputs": [
        {
          "output_type": "execute_result",
          "data": {
            "text/html": [
              "<div>\n",
              "<style scoped>\n",
              "    .dataframe tbody tr th:only-of-type {\n",
              "        vertical-align: middle;\n",
              "    }\n",
              "\n",
              "    .dataframe tbody tr th {\n",
              "        vertical-align: top;\n",
              "    }\n",
              "\n",
              "    .dataframe thead th {\n",
              "        text-align: right;\n",
              "    }\n",
              "</style>\n",
              "<table border=\"1\" class=\"dataframe\">\n",
              "  <thead>\n",
              "    <tr style=\"text-align: right;\">\n",
              "      <th></th>\n",
              "      <th>Invoice</th>\n",
              "      <th>StockCode</th>\n",
              "      <th>Description</th>\n",
              "      <th>Quantity</th>\n",
              "      <th>InvoiceDate</th>\n",
              "      <th>Price</th>\n",
              "      <th>Customer ID</th>\n",
              "      <th>Country</th>\n",
              "      <th>DayOfMonth</th>\n",
              "      <th>IsWeekend</th>\n",
              "      <th>BillValue</th>\n",
              "    </tr>\n",
              "  </thead>\n",
              "  <tbody>\n",
              "    <tr>\n",
              "      <th>0</th>\n",
              "      <td>489434</td>\n",
              "      <td>85048</td>\n",
              "      <td>15CM CHRISTMAS GLASS BALL 20 LIGHTS</td>\n",
              "      <td>12</td>\n",
              "      <td>2009-12-01 07:45:00</td>\n",
              "      <td>6.95</td>\n",
              "      <td>13085.0</td>\n",
              "      <td>United Kingdom</td>\n",
              "      <td>1</td>\n",
              "      <td>0</td>\n",
              "      <td>83.40</td>\n",
              "    </tr>\n",
              "    <tr>\n",
              "      <th>1</th>\n",
              "      <td>489434</td>\n",
              "      <td>79323P</td>\n",
              "      <td>PINK CHERRY LIGHTS</td>\n",
              "      <td>12</td>\n",
              "      <td>2009-12-01 07:45:00</td>\n",
              "      <td>6.75</td>\n",
              "      <td>13085.0</td>\n",
              "      <td>United Kingdom</td>\n",
              "      <td>1</td>\n",
              "      <td>0</td>\n",
              "      <td>81.00</td>\n",
              "    </tr>\n",
              "    <tr>\n",
              "      <th>2</th>\n",
              "      <td>489434</td>\n",
              "      <td>79323W</td>\n",
              "      <td>WHITE CHERRY LIGHTS</td>\n",
              "      <td>12</td>\n",
              "      <td>2009-12-01 07:45:00</td>\n",
              "      <td>6.75</td>\n",
              "      <td>13085.0</td>\n",
              "      <td>United Kingdom</td>\n",
              "      <td>1</td>\n",
              "      <td>0</td>\n",
              "      <td>81.00</td>\n",
              "    </tr>\n",
              "    <tr>\n",
              "      <th>3</th>\n",
              "      <td>489434</td>\n",
              "      <td>22041</td>\n",
              "      <td>RECORD FRAME 7\" SINGLE SIZE</td>\n",
              "      <td>48</td>\n",
              "      <td>2009-12-01 07:45:00</td>\n",
              "      <td>2.10</td>\n",
              "      <td>13085.0</td>\n",
              "      <td>United Kingdom</td>\n",
              "      <td>1</td>\n",
              "      <td>0</td>\n",
              "      <td>100.80</td>\n",
              "    </tr>\n",
              "    <tr>\n",
              "      <th>4</th>\n",
              "      <td>489434</td>\n",
              "      <td>21232</td>\n",
              "      <td>STRAWBERRY CERAMIC TRINKET BOX</td>\n",
              "      <td>24</td>\n",
              "      <td>2009-12-01 07:45:00</td>\n",
              "      <td>1.25</td>\n",
              "      <td>13085.0</td>\n",
              "      <td>United Kingdom</td>\n",
              "      <td>1</td>\n",
              "      <td>0</td>\n",
              "      <td>30.00</td>\n",
              "    </tr>\n",
              "    <tr>\n",
              "      <th>...</th>\n",
              "      <td>...</td>\n",
              "      <td>...</td>\n",
              "      <td>...</td>\n",
              "      <td>...</td>\n",
              "      <td>...</td>\n",
              "      <td>...</td>\n",
              "      <td>...</td>\n",
              "      <td>...</td>\n",
              "      <td>...</td>\n",
              "      <td>...</td>\n",
              "      <td>...</td>\n",
              "    </tr>\n",
              "    <tr>\n",
              "      <th>1067366</th>\n",
              "      <td>581587</td>\n",
              "      <td>22899</td>\n",
              "      <td>CHILDREN'S APRON DOLLY GIRL</td>\n",
              "      <td>6</td>\n",
              "      <td>2011-12-09 12:50:00</td>\n",
              "      <td>2.10</td>\n",
              "      <td>12680.0</td>\n",
              "      <td>France</td>\n",
              "      <td>9</td>\n",
              "      <td>0</td>\n",
              "      <td>12.60</td>\n",
              "    </tr>\n",
              "    <tr>\n",
              "      <th>1067367</th>\n",
              "      <td>581587</td>\n",
              "      <td>23254</td>\n",
              "      <td>CHILDRENS CUTLERY DOLLY GIRL</td>\n",
              "      <td>4</td>\n",
              "      <td>2011-12-09 12:50:00</td>\n",
              "      <td>4.15</td>\n",
              "      <td>12680.0</td>\n",
              "      <td>France</td>\n",
              "      <td>9</td>\n",
              "      <td>0</td>\n",
              "      <td>16.60</td>\n",
              "    </tr>\n",
              "    <tr>\n",
              "      <th>1067368</th>\n",
              "      <td>581587</td>\n",
              "      <td>23255</td>\n",
              "      <td>CHILDRENS CUTLERY CIRCUS PARADE</td>\n",
              "      <td>4</td>\n",
              "      <td>2011-12-09 12:50:00</td>\n",
              "      <td>4.15</td>\n",
              "      <td>12680.0</td>\n",
              "      <td>France</td>\n",
              "      <td>9</td>\n",
              "      <td>0</td>\n",
              "      <td>16.60</td>\n",
              "    </tr>\n",
              "    <tr>\n",
              "      <th>1067369</th>\n",
              "      <td>581587</td>\n",
              "      <td>22138</td>\n",
              "      <td>BAKING SET 9 PIECE RETROSPOT</td>\n",
              "      <td>3</td>\n",
              "      <td>2011-12-09 12:50:00</td>\n",
              "      <td>4.95</td>\n",
              "      <td>12680.0</td>\n",
              "      <td>France</td>\n",
              "      <td>9</td>\n",
              "      <td>0</td>\n",
              "      <td>14.85</td>\n",
              "    </tr>\n",
              "    <tr>\n",
              "      <th>1067370</th>\n",
              "      <td>581587</td>\n",
              "      <td>POST</td>\n",
              "      <td>POSTAGE</td>\n",
              "      <td>1</td>\n",
              "      <td>2011-12-09 12:50:00</td>\n",
              "      <td>18.00</td>\n",
              "      <td>12680.0</td>\n",
              "      <td>France</td>\n",
              "      <td>9</td>\n",
              "      <td>0</td>\n",
              "      <td>18.00</td>\n",
              "    </tr>\n",
              "  </tbody>\n",
              "</table>\n",
              "<p>1067371 rows × 11 columns</p>\n",
              "</div>"
            ],
            "text/plain": [
              "        Invoice StockCode  ... IsWeekend  BillValue\n",
              "0        489434     85048  ...         0      83.40\n",
              "1        489434    79323P  ...         0      81.00\n",
              "2        489434    79323W  ...         0      81.00\n",
              "3        489434     22041  ...         0     100.80\n",
              "4        489434     21232  ...         0      30.00\n",
              "...         ...       ...  ...       ...        ...\n",
              "1067366  581587     22899  ...         0      12.60\n",
              "1067367  581587     23254  ...         0      16.60\n",
              "1067368  581587     23255  ...         0      16.60\n",
              "1067369  581587     22138  ...         0      14.85\n",
              "1067370  581587      POST  ...         0      18.00\n",
              "\n",
              "[1067371 rows x 11 columns]"
            ]
          },
          "metadata": {},
          "execution_count": 16
        }
      ]
    },
    {
      "cell_type": "code",
      "metadata": {
        "colab": {
          "base_uri": "https://localhost:8080/"
        },
        "id": "W9qJJLP-6XxJ",
        "outputId": "fad44008-fa38-4ba0-d175-0cedd0947748"
      },
      "source": [
        "#checking for negative values in 'Price'\n",
        "(dataframe.Price <0).value_counts()"
      ],
      "execution_count": null,
      "outputs": [
        {
          "output_type": "execute_result",
          "data": {
            "text/plain": [
              "False    1067366\n",
              "True           5\n",
              "Name: Price, dtype: int64"
            ]
          },
          "metadata": {},
          "execution_count": 17
        }
      ]
    },
    {
      "cell_type": "code",
      "metadata": {
        "colab": {
          "base_uri": "https://localhost:8080/"
        },
        "id": "HeH5Bu-v_y2A",
        "outputId": "0d39b854-766c-4570-8178-68817d03e50f"
      },
      "source": [
        "#removing the '-' sign from values \n",
        "dataframe.Price = dataframe.Price.astype(str).str.replace('-', '').astype(float)\n",
        "(dataframe.Price<0).value_counts()"
      ],
      "execution_count": null,
      "outputs": [
        {
          "output_type": "execute_result",
          "data": {
            "text/plain": [
              "False    1067371\n",
              "Name: Price, dtype: int64"
            ]
          },
          "metadata": {},
          "execution_count": 18
        }
      ]
    },
    {
      "cell_type": "code",
      "metadata": {
        "colab": {
          "base_uri": "https://localhost:8080/"
        },
        "id": "4OwcyCroB4Z_",
        "outputId": "04ac6a1e-8cdb-40de-bd70-c8ac489e1f77"
      },
      "source": [
        "#checking for negative value in 'Quantity\n",
        "(dataframe.Quantity <0).value_counts()"
      ],
      "execution_count": null,
      "outputs": [
        {
          "output_type": "execute_result",
          "data": {
            "text/plain": [
              "False    1044421\n",
              "True       22950\n",
              "Name: Quantity, dtype: int64"
            ]
          },
          "metadata": {},
          "execution_count": 19
        }
      ]
    },
    {
      "cell_type": "code",
      "metadata": {
        "colab": {
          "base_uri": "https://localhost:8080/"
        },
        "id": "eapIymAqAWHC",
        "outputId": "b56a5ee6-7759-4559-acaa-3e6c7ef0e55a"
      },
      "source": [
        "#changing the column values to absolute, removing any negative vlaues\n",
        "dataframe.Quantity = dataframe.Quantity.abs()\n",
        "(dataframe.Quantity <0).value_counts()"
      ],
      "execution_count": null,
      "outputs": [
        {
          "output_type": "execute_result",
          "data": {
            "text/plain": [
              "False    1067371\n",
              "Name: Quantity, dtype: int64"
            ]
          },
          "metadata": {},
          "execution_count": 20
        }
      ]
    },
    {
      "cell_type": "code",
      "metadata": {
        "colab": {
          "base_uri": "https://localhost:8080/",
          "height": 423
        },
        "id": "fsJ6HqWZ2QP_",
        "outputId": "3380bd47-8fe2-4eab-bd29-f4e74947ba0f"
      },
      "source": [
        "dataframe[dataframe.duplicated('StockCode', keep=False)].groupby('StockCode')['Description'].apply(list).reset_index()"
      ],
      "execution_count": null,
      "outputs": [
        {
          "output_type": "execute_result",
          "data": {
            "text/html": [
              "<div>\n",
              "<style scoped>\n",
              "    .dataframe tbody tr th:only-of-type {\n",
              "        vertical-align: middle;\n",
              "    }\n",
              "\n",
              "    .dataframe tbody tr th {\n",
              "        vertical-align: top;\n",
              "    }\n",
              "\n",
              "    .dataframe thead th {\n",
              "        text-align: right;\n",
              "    }\n",
              "</style>\n",
              "<table border=\"1\" class=\"dataframe\">\n",
              "  <thead>\n",
              "    <tr style=\"text-align: right;\">\n",
              "      <th></th>\n",
              "      <th>StockCode</th>\n",
              "      <th>Description</th>\n",
              "    </tr>\n",
              "  </thead>\n",
              "  <tbody>\n",
              "    <tr>\n",
              "      <th>0</th>\n",
              "      <td>10002</td>\n",
              "      <td>[INFLATABLE POLITICAL GLOBE , INFLATABLE POLIT...</td>\n",
              "    </tr>\n",
              "    <tr>\n",
              "      <th>1</th>\n",
              "      <td>10080</td>\n",
              "      <td>[GROOVY CACTUS INFLATABLE, GROOVY CACTUS INFLA...</td>\n",
              "    </tr>\n",
              "    <tr>\n",
              "      <th>2</th>\n",
              "      <td>10109</td>\n",
              "      <td>[BENDY COLOUR PENCILS, nan]</td>\n",
              "    </tr>\n",
              "    <tr>\n",
              "      <th>3</th>\n",
              "      <td>10120</td>\n",
              "      <td>[DOGGY RUBBER, DOGGY RUBBER, DOGGY RUBBER, DOG...</td>\n",
              "    </tr>\n",
              "    <tr>\n",
              "      <th>4</th>\n",
              "      <td>10125</td>\n",
              "      <td>[MINI FUNKY DESIGN TAPES, MINI FUNKY DESIGN TA...</td>\n",
              "    </tr>\n",
              "    <tr>\n",
              "      <th>...</th>\n",
              "      <td>...</td>\n",
              "      <td>...</td>\n",
              "    </tr>\n",
              "    <tr>\n",
              "      <th>4867</th>\n",
              "      <td>gift_0001_60</td>\n",
              "      <td>[nan, nan]</td>\n",
              "    </tr>\n",
              "    <tr>\n",
              "      <th>4868</th>\n",
              "      <td>gift_0001_70</td>\n",
              "      <td>[nan, Dotcomgiftshop Gift Voucher £70.00, nan]</td>\n",
              "    </tr>\n",
              "    <tr>\n",
              "      <th>4869</th>\n",
              "      <td>gift_0001_80</td>\n",
              "      <td>[nan, Dotcomgiftshop Gift Voucher £80.00, Dotc...</td>\n",
              "    </tr>\n",
              "    <tr>\n",
              "      <th>4870</th>\n",
              "      <td>gift_0001_90</td>\n",
              "      <td>[nan, nan]</td>\n",
              "    </tr>\n",
              "    <tr>\n",
              "      <th>4871</th>\n",
              "      <td>m</td>\n",
              "      <td>[Manual, Manual, Manual, Manual, Manual]</td>\n",
              "    </tr>\n",
              "  </tbody>\n",
              "</table>\n",
              "<p>4872 rows × 2 columns</p>\n",
              "</div>"
            ],
            "text/plain": [
              "         StockCode                                        Description\n",
              "0            10002  [INFLATABLE POLITICAL GLOBE , INFLATABLE POLIT...\n",
              "1            10080  [GROOVY CACTUS INFLATABLE, GROOVY CACTUS INFLA...\n",
              "2            10109                        [BENDY COLOUR PENCILS, nan]\n",
              "3            10120  [DOGGY RUBBER, DOGGY RUBBER, DOGGY RUBBER, DOG...\n",
              "4            10125  [MINI FUNKY DESIGN TAPES, MINI FUNKY DESIGN TA...\n",
              "...            ...                                                ...\n",
              "4867  gift_0001_60                                         [nan, nan]\n",
              "4868  gift_0001_70     [nan, Dotcomgiftshop Gift Voucher £70.00, nan]\n",
              "4869  gift_0001_80  [nan, Dotcomgiftshop Gift Voucher £80.00, Dotc...\n",
              "4870  gift_0001_90                                         [nan, nan]\n",
              "4871             m           [Manual, Manual, Manual, Manual, Manual]\n",
              "\n",
              "[4872 rows x 2 columns]"
            ]
          },
          "metadata": {},
          "execution_count": 21
        }
      ]
    },
    {
      "cell_type": "markdown",
      "metadata": {
        "id": "xONJ8xycEJcS"
      },
      "source": [
        "# EDA"
      ]
    },
    {
      "cell_type": "markdown",
      "metadata": {
        "id": "bM1NYva6EWU8"
      },
      "source": [
        "## Can customers be segmented into different categories? If yes then perform analysis on the same and also propose categories. If no, then explain why?"
      ]
    },
    {
      "cell_type": "code",
      "metadata": {
        "colab": {
          "base_uri": "https://localhost:8080/"
        },
        "id": "l3DYJiQHEX1z",
        "outputId": "fe9fe827-f0eb-4f38-fa9f-f57134b0af06"
      },
      "source": [
        "dataframe = dataframe.dropna()\n",
        "dataframe.isnull().sum()"
      ],
      "execution_count": null,
      "outputs": [
        {
          "output_type": "execute_result",
          "data": {
            "text/plain": [
              "Invoice        0\n",
              "StockCode      0\n",
              "Description    0\n",
              "Quantity       0\n",
              "InvoiceDate    0\n",
              "Price          0\n",
              "Customer ID    0\n",
              "Country        0\n",
              "DayOfMonth     0\n",
              "IsWeekend      0\n",
              "BillValue      0\n",
              "dtype: int64"
            ]
          },
          "metadata": {},
          "execution_count": 22
        }
      ]
    },
    {
      "cell_type": "code",
      "metadata": {
        "colab": {
          "base_uri": "https://localhost:8080/"
        },
        "id": "bDxm5XCGFe17",
        "outputId": "3f0f6a12-1f32-4a86-a1a5-f25683f6c20e"
      },
      "source": [
        "dataframe.info()"
      ],
      "execution_count": null,
      "outputs": [
        {
          "output_type": "stream",
          "name": "stdout",
          "text": [
            "<class 'pandas.core.frame.DataFrame'>\n",
            "Int64Index: 824364 entries, 0 to 1067370\n",
            "Data columns (total 11 columns):\n",
            " #   Column       Non-Null Count   Dtype         \n",
            "---  ------       --------------   -----         \n",
            " 0   Invoice      824364 non-null  object        \n",
            " 1   StockCode    824364 non-null  object        \n",
            " 2   Description  824364 non-null  object        \n",
            " 3   Quantity     824364 non-null  int64         \n",
            " 4   InvoiceDate  824364 non-null  datetime64[ns]\n",
            " 5   Price        824364 non-null  float64       \n",
            " 6   Customer ID  824364 non-null  float64       \n",
            " 7   Country      824364 non-null  object        \n",
            " 8   DayOfMonth   824364 non-null  int64         \n",
            " 9   IsWeekend    824364 non-null  int64         \n",
            " 10  BillValue    824364 non-null  float64       \n",
            "dtypes: datetime64[ns](1), float64(3), int64(3), object(4)\n",
            "memory usage: 75.5+ MB\n"
          ]
        }
      ]
    },
    {
      "cell_type": "code",
      "metadata": {
        "colab": {
          "base_uri": "https://localhost:8080/",
          "height": 566
        },
        "id": "QBFvK1ALFkYp",
        "outputId": "73529a45-7b81-4ce2-f9cb-6b51f4a1276f"
      },
      "source": [
        "plt.figure(figsize=(10,8))\n",
        "s = sns.heatmap(dataframe.corr(),\n",
        "               annot=True,\n",
        "               cmap='Reds',\n",
        "               vmin=-1,\n",
        "               vmax=1)\n",
        "s.set_yticklabels(s.get_yticklabels(),rotation=0,fontsize=12)\n",
        "s.set_xticklabels(s.get_xticklabels(),rotation=90,fontsize=12)\n",
        "plt.title('correlation heatmap')\n",
        "plt.show()"
      ],
      "execution_count": null,
      "outputs": [
        {
          "output_type": "display_data",
          "data": {
            "image/png": "[encoded data removed]",
            "text/plain": [
              "<Figure size 720x576 with 2 Axes>"
            ]
          },
          "metadata": {
            "needs_background": "light"
          }
        }
      ]
    },
    {
      "cell_type": "code",
      "metadata": {
        "colab": {
          "base_uri": "https://localhost:8080/",
          "height": 423
        },
        "id": "WJOnls0wHxLL",
        "outputId": "b78f8f4f-d915-4de6-99b8-9c92f620d954"
      },
      "source": [
        "frequency_customer= dataframe.groupby([\"Customer ID\"]).agg({\"Invoice\" : \"nunique\"}).reset_index()\n",
        "frequency_customer.columns = ['Customer ID', 'Frequency']\n",
        "frequency_customer=frequency_customer.sort_values([\"Frequency\"], ascending=False).reset_index()\n",
        "frequency_customer= frequency_customer.drop(columns=['index'])\n",
        "frequency_customer['freq_score']=0\n",
        "frequency_customer['freq_score'] = pd.qcut(frequency_customer['Frequency'], 4, ['1','2','3','4']).astype(int)\n",
        "\n",
        "frequency_customer"
      ],
      "execution_count": null,
      "outputs": [
        {
          "output_type": "execute_result",
          "data": {
            "text/html": [
              "<div>\n",
              "<style scoped>\n",
              "    .dataframe tbody tr th:only-of-type {\n",
              "        vertical-align: middle;\n",
              "    }\n",
              "\n",
              "    .dataframe tbody tr th {\n",
              "        vertical-align: top;\n",
              "    }\n",
              "\n",
              "    .dataframe thead th {\n",
              "        text-align: right;\n",
              "    }\n",
              "</style>\n",
              "<table border=\"1\" class=\"dataframe\">\n",
              "  <thead>\n",
              "    <tr style=\"text-align: right;\">\n",
              "      <th></th>\n",
              "      <th>Customer ID</th>\n",
              "      <th>Frequency</th>\n",
              "      <th>freq_score</th>\n",
              "    </tr>\n",
              "  </thead>\n",
              "  <tbody>\n",
              "    <tr>\n",
              "      <th>0</th>\n",
              "      <td>14911.0</td>\n",
              "      <td>510</td>\n",
              "      <td>4</td>\n",
              "    </tr>\n",
              "    <tr>\n",
              "      <th>1</th>\n",
              "      <td>12748.0</td>\n",
              "      <td>365</td>\n",
              "      <td>4</td>\n",
              "    </tr>\n",
              "    <tr>\n",
              "      <th>2</th>\n",
              "      <td>17841.0</td>\n",
              "      <td>289</td>\n",
              "      <td>4</td>\n",
              "    </tr>\n",
              "    <tr>\n",
              "      <th>3</th>\n",
              "      <td>15311.0</td>\n",
              "      <td>270</td>\n",
              "      <td>4</td>\n",
              "    </tr>\n",
              "    <tr>\n",
              "      <th>4</th>\n",
              "      <td>14606.0</td>\n",
              "      <td>259</td>\n",
              "      <td>4</td>\n",
              "    </tr>\n",
              "    <tr>\n",
              "      <th>...</th>\n",
              "      <td>...</td>\n",
              "      <td>...</td>\n",
              "      <td>...</td>\n",
              "    </tr>\n",
              "    <tr>\n",
              "      <th>5937</th>\n",
              "      <td>17079.0</td>\n",
              "      <td>1</td>\n",
              "      <td>1</td>\n",
              "    </tr>\n",
              "    <tr>\n",
              "      <th>5938</th>\n",
              "      <td>17077.0</td>\n",
              "      <td>1</td>\n",
              "      <td>1</td>\n",
              "    </tr>\n",
              "    <tr>\n",
              "      <th>5939</th>\n",
              "      <td>13328.0</td>\n",
              "      <td>1</td>\n",
              "      <td>1</td>\n",
              "    </tr>\n",
              "    <tr>\n",
              "      <th>5940</th>\n",
              "      <td>15352.0</td>\n",
              "      <td>1</td>\n",
              "      <td>1</td>\n",
              "    </tr>\n",
              "    <tr>\n",
              "      <th>5941</th>\n",
              "      <td>17318.0</td>\n",
              "      <td>1</td>\n",
              "      <td>1</td>\n",
              "    </tr>\n",
              "  </tbody>\n",
              "</table>\n",
              "<p>5942 rows × 3 columns</p>\n",
              "</div>"
            ],
            "text/plain": [
              "      Customer ID  Frequency  freq_score\n",
              "0         14911.0        510           4\n",
              "1         12748.0        365           4\n",
              "2         17841.0        289           4\n",
              "3         15311.0        270           4\n",
              "4         14606.0        259           4\n",
              "...           ...        ...         ...\n",
              "5937      17079.0          1           1\n",
              "5938      17077.0          1           1\n",
              "5939      13328.0          1           1\n",
              "5940      15352.0          1           1\n",
              "5941      17318.0          1           1\n",
              "\n",
              "[5942 rows x 3 columns]"
            ]
          },
          "metadata": {},
          "execution_count": 25
        }
      ]
    },
    {
      "cell_type": "code",
      "metadata": {
        "colab": {
          "base_uri": "https://localhost:8080/",
          "height": 423
        },
        "id": "WL7Na6X4OZCg",
        "outputId": "55dc63e9-3671-4161-9870-eb4e823f10c8"
      },
      "source": [
        "spending_customer = dataframe.groupby([\"Customer ID\"]).agg({\"BillValue\" : \"sum\"}).reset_index()\n",
        "spending_customer.columns = ['Customer ID', 'monetary']\n",
        "spending_customer = spending_customer.sort_values([\"monetary\"], ascending=False).reset_index()\n",
        "spending_customer = spending_customer.drop(columns=['index'])\n",
        "spending_customer['monetary_score']=0\n",
        "spending_customer['monetary_score'] = pd.qcut(spending_customer['monetary'], 4, ['1','2','3','4']).astype(int)\n",
        "spending_customer"
      ],
      "execution_count": null,
      "outputs": [
        {
          "output_type": "execute_result",
          "data": {
            "text/html": [
              "<div>\n",
              "<style scoped>\n",
              "    .dataframe tbody tr th:only-of-type {\n",
              "        vertical-align: middle;\n",
              "    }\n",
              "\n",
              "    .dataframe tbody tr th {\n",
              "        vertical-align: top;\n",
              "    }\n",
              "\n",
              "    .dataframe thead th {\n",
              "        text-align: right;\n",
              "    }\n",
              "</style>\n",
              "<table border=\"1\" class=\"dataframe\">\n",
              "  <thead>\n",
              "    <tr style=\"text-align: right;\">\n",
              "      <th></th>\n",
              "      <th>Customer ID</th>\n",
              "      <th>monetary</th>\n",
              "      <th>monetary_score</th>\n",
              "    </tr>\n",
              "  </thead>\n",
              "  <tbody>\n",
              "    <tr>\n",
              "      <th>0</th>\n",
              "      <td>18102.0</td>\n",
              "      <td>598215.22</td>\n",
              "      <td>4</td>\n",
              "    </tr>\n",
              "    <tr>\n",
              "      <th>1</th>\n",
              "      <td>14646.0</td>\n",
              "      <td>523342.07</td>\n",
              "      <td>4</td>\n",
              "    </tr>\n",
              "    <tr>\n",
              "      <th>2</th>\n",
              "      <td>14156.0</td>\n",
              "      <td>296564.69</td>\n",
              "      <td>4</td>\n",
              "    </tr>\n",
              "    <tr>\n",
              "      <th>3</th>\n",
              "      <td>14911.0</td>\n",
              "      <td>270248.53</td>\n",
              "      <td>4</td>\n",
              "    </tr>\n",
              "    <tr>\n",
              "      <th>4</th>\n",
              "      <td>17450.0</td>\n",
              "      <td>233579.39</td>\n",
              "      <td>4</td>\n",
              "    </tr>\n",
              "    <tr>\n",
              "      <th>...</th>\n",
              "      <td>...</td>\n",
              "      <td>...</td>\n",
              "      <td>...</td>\n",
              "    </tr>\n",
              "    <tr>\n",
              "      <th>5937</th>\n",
              "      <td>16981.0</td>\n",
              "      <td>-4620.86</td>\n",
              "      <td>1</td>\n",
              "    </tr>\n",
              "    <tr>\n",
              "      <th>5938</th>\n",
              "      <td>15760.0</td>\n",
              "      <td>-5795.87</td>\n",
              "      <td>1</td>\n",
              "    </tr>\n",
              "    <tr>\n",
              "      <th>5939</th>\n",
              "      <td>15849.0</td>\n",
              "      <td>-5876.34</td>\n",
              "      <td>1</td>\n",
              "    </tr>\n",
              "    <tr>\n",
              "      <th>5940</th>\n",
              "      <td>12918.0</td>\n",
              "      <td>-10953.50</td>\n",
              "      <td>1</td>\n",
              "    </tr>\n",
              "    <tr>\n",
              "      <th>5941</th>\n",
              "      <td>17399.0</td>\n",
              "      <td>-25111.09</td>\n",
              "      <td>1</td>\n",
              "    </tr>\n",
              "  </tbody>\n",
              "</table>\n",
              "<p>5942 rows × 3 columns</p>\n",
              "</div>"
            ],
            "text/plain": [
              "      Customer ID   monetary  monetary_score\n",
              "0         18102.0  598215.22               4\n",
              "1         14646.0  523342.07               4\n",
              "2         14156.0  296564.69               4\n",
              "3         14911.0  270248.53               4\n",
              "4         17450.0  233579.39               4\n",
              "...           ...        ...             ...\n",
              "5937      16981.0   -4620.86               1\n",
              "5938      15760.0   -5795.87               1\n",
              "5939      15849.0   -5876.34               1\n",
              "5940      12918.0  -10953.50               1\n",
              "5941      17399.0  -25111.09               1\n",
              "\n",
              "[5942 rows x 3 columns]"
            ]
          },
          "metadata": {},
          "execution_count": 26
        }
      ]
    },
    {
      "cell_type": "code",
      "metadata": {
        "colab": {
          "base_uri": "https://localhost:8080/",
          "height": 423
        },
        "id": "W8ue9wcvTO1C",
        "outputId": "f27aec15-4a94-4fec-e683-a48bd492b6a5"
      },
      "source": [
        "customer_recency= dataframe.groupby([\"Customer ID\"]).agg({\"InvoiceDate\" : \"max\"}).reset_index()\n",
        "customer_recency.columns = ['Customer ID', 'Recency']\n",
        "customer_recency=customer_recency.sort_values([\"Recency\"], ascending=False).reset_index()\n",
        "refrence_date = customer_recency.Recency.max() + dt.timedelta(days = 1)\n",
        "customer_recency['Recency'] = (refrence_date - customer_recency.Recency).astype('timedelta64[D]')\n",
        "customer_recency = customer_recency.drop(columns=['index'])\n",
        "customer_recency['recency_score']=0\n",
        "customer_recency['recency_score'] = pd.qcut(customer_recency['Recency'], 4, ['1','2','3','4']).astype(int)\n",
        "        \n",
        "customer_recency"
      ],
      "execution_count": null,
      "outputs": [
        {
          "output_type": "execute_result",
          "data": {
            "text/html": [
              "<div>\n",
              "<style scoped>\n",
              "    .dataframe tbody tr th:only-of-type {\n",
              "        vertical-align: middle;\n",
              "    }\n",
              "\n",
              "    .dataframe tbody tr th {\n",
              "        vertical-align: top;\n",
              "    }\n",
              "\n",
              "    .dataframe thead th {\n",
              "        text-align: right;\n",
              "    }\n",
              "</style>\n",
              "<table border=\"1\" class=\"dataframe\">\n",
              "  <thead>\n",
              "    <tr style=\"text-align: right;\">\n",
              "      <th></th>\n",
              "      <th>Customer ID</th>\n",
              "      <th>Recency</th>\n",
              "      <th>recency_score</th>\n",
              "    </tr>\n",
              "  </thead>\n",
              "  <tbody>\n",
              "    <tr>\n",
              "      <th>0</th>\n",
              "      <td>12680.0</td>\n",
              "      <td>1.0</td>\n",
              "      <td>1</td>\n",
              "    </tr>\n",
              "    <tr>\n",
              "      <th>1</th>\n",
              "      <td>13113.0</td>\n",
              "      <td>1.0</td>\n",
              "      <td>1</td>\n",
              "    </tr>\n",
              "    <tr>\n",
              "      <th>2</th>\n",
              "      <td>15804.0</td>\n",
              "      <td>1.0</td>\n",
              "      <td>1</td>\n",
              "    </tr>\n",
              "    <tr>\n",
              "      <th>3</th>\n",
              "      <td>13777.0</td>\n",
              "      <td>1.0</td>\n",
              "      <td>1</td>\n",
              "    </tr>\n",
              "    <tr>\n",
              "      <th>4</th>\n",
              "      <td>17581.0</td>\n",
              "      <td>1.0</td>\n",
              "      <td>1</td>\n",
              "    </tr>\n",
              "    <tr>\n",
              "      <th>...</th>\n",
              "      <td>...</td>\n",
              "      <td>...</td>\n",
              "      <td>...</td>\n",
              "    </tr>\n",
              "    <tr>\n",
              "      <th>5937</th>\n",
              "      <td>14654.0</td>\n",
              "      <td>738.0</td>\n",
              "      <td>4</td>\n",
              "    </tr>\n",
              "    <tr>\n",
              "      <th>5938</th>\n",
              "      <td>17056.0</td>\n",
              "      <td>738.0</td>\n",
              "      <td>4</td>\n",
              "    </tr>\n",
              "    <tr>\n",
              "      <th>5939</th>\n",
              "      <td>17641.0</td>\n",
              "      <td>739.0</td>\n",
              "      <td>4</td>\n",
              "    </tr>\n",
              "    <tr>\n",
              "      <th>5940</th>\n",
              "      <td>17592.0</td>\n",
              "      <td>739.0</td>\n",
              "      <td>4</td>\n",
              "    </tr>\n",
              "    <tr>\n",
              "      <th>5941</th>\n",
              "      <td>12636.0</td>\n",
              "      <td>739.0</td>\n",
              "      <td>4</td>\n",
              "    </tr>\n",
              "  </tbody>\n",
              "</table>\n",
              "<p>5942 rows × 3 columns</p>\n",
              "</div>"
            ],
            "text/plain": [
              "      Customer ID  Recency  recency_score\n",
              "0         12680.0      1.0              1\n",
              "1         13113.0      1.0              1\n",
              "2         15804.0      1.0              1\n",
              "3         13777.0      1.0              1\n",
              "4         17581.0      1.0              1\n",
              "...           ...      ...            ...\n",
              "5937      14654.0    738.0              4\n",
              "5938      17056.0    738.0              4\n",
              "5939      17641.0    739.0              4\n",
              "5940      17592.0    739.0              4\n",
              "5941      12636.0    739.0              4\n",
              "\n",
              "[5942 rows x 3 columns]"
            ]
          },
          "metadata": {},
          "execution_count": 27
        }
      ]
    },
    {
      "cell_type": "code",
      "metadata": {
        "colab": {
          "base_uri": "https://localhost:8080/",
          "height": 423
        },
        "id": "RQnGYzHehE3_",
        "outputId": "ff578f5f-5359-41f5-fa5f-6640bd0591db"
      },
      "source": [
        "customers = pd.merge(frequency_customer, spending_customer, on=\"Customer ID\")\n",
        "customers = pd.merge(customers, customer_recency, on=\"Customer ID\")\n",
        "customers"
      ],
      "execution_count": null,
      "outputs": [
        {
          "output_type": "execute_result",
          "data": {
            "text/html": [
              "<div>\n",
              "<style scoped>\n",
              "    .dataframe tbody tr th:only-of-type {\n",
              "        vertical-align: middle;\n",
              "    }\n",
              "\n",
              "    .dataframe tbody tr th {\n",
              "        vertical-align: top;\n",
              "    }\n",
              "\n",
              "    .dataframe thead th {\n",
              "        text-align: right;\n",
              "    }\n",
              "</style>\n",
              "<table border=\"1\" class=\"dataframe\">\n",
              "  <thead>\n",
              "    <tr style=\"text-align: right;\">\n",
              "      <th></th>\n",
              "      <th>Customer ID</th>\n",
              "      <th>Frequency</th>\n",
              "      <th>freq_score</th>\n",
              "      <th>monetary</th>\n",
              "      <th>monetary_score</th>\n",
              "      <th>Recency</th>\n",
              "      <th>recency_score</th>\n",
              "    </tr>\n",
              "  </thead>\n",
              "  <tbody>\n",
              "    <tr>\n",
              "      <th>0</th>\n",
              "      <td>14911.0</td>\n",
              "      <td>510</td>\n",
              "      <td>4</td>\n",
              "      <td>270248.53</td>\n",
              "      <td>4</td>\n",
              "      <td>1.0</td>\n",
              "      <td>1</td>\n",
              "    </tr>\n",
              "    <tr>\n",
              "      <th>1</th>\n",
              "      <td>12748.0</td>\n",
              "      <td>365</td>\n",
              "      <td>4</td>\n",
              "      <td>49970.13</td>\n",
              "      <td>4</td>\n",
              "      <td>1.0</td>\n",
              "      <td>1</td>\n",
              "    </tr>\n",
              "    <tr>\n",
              "      <th>2</th>\n",
              "      <td>17841.0</td>\n",
              "      <td>289</td>\n",
              "      <td>4</td>\n",
              "      <td>69516.19</td>\n",
              "      <td>4</td>\n",
              "      <td>2.0</td>\n",
              "      <td>1</td>\n",
              "    </tr>\n",
              "    <tr>\n",
              "      <th>3</th>\n",
              "      <td>15311.0</td>\n",
              "      <td>270</td>\n",
              "      <td>4</td>\n",
              "      <td>113513.07</td>\n",
              "      <td>4</td>\n",
              "      <td>1.0</td>\n",
              "      <td>1</td>\n",
              "    </tr>\n",
              "    <tr>\n",
              "      <th>4</th>\n",
              "      <td>14606.0</td>\n",
              "      <td>259</td>\n",
              "      <td>4</td>\n",
              "      <td>30094.38</td>\n",
              "      <td>4</td>\n",
              "      <td>1.0</td>\n",
              "      <td>1</td>\n",
              "    </tr>\n",
              "    <tr>\n",
              "      <th>...</th>\n",
              "      <td>...</td>\n",
              "      <td>...</td>\n",
              "      <td>...</td>\n",
              "      <td>...</td>\n",
              "      <td>...</td>\n",
              "      <td>...</td>\n",
              "      <td>...</td>\n",
              "    </tr>\n",
              "    <tr>\n",
              "      <th>5937</th>\n",
              "      <td>17079.0</td>\n",
              "      <td>1</td>\n",
              "      <td>1</td>\n",
              "      <td>118.80</td>\n",
              "      <td>1</td>\n",
              "      <td>78.0</td>\n",
              "      <td>2</td>\n",
              "    </tr>\n",
              "    <tr>\n",
              "      <th>5938</th>\n",
              "      <td>17077.0</td>\n",
              "      <td>1</td>\n",
              "      <td>1</td>\n",
              "      <td>306.00</td>\n",
              "      <td>1</td>\n",
              "      <td>578.0</td>\n",
              "      <td>4</td>\n",
              "    </tr>\n",
              "    <tr>\n",
              "      <th>5939</th>\n",
              "      <td>13328.0</td>\n",
              "      <td>1</td>\n",
              "      <td>1</td>\n",
              "      <td>1308.48</td>\n",
              "      <td>3</td>\n",
              "      <td>316.0</td>\n",
              "      <td>3</td>\n",
              "    </tr>\n",
              "    <tr>\n",
              "      <th>5940</th>\n",
              "      <td>15352.0</td>\n",
              "      <td>1</td>\n",
              "      <td>1</td>\n",
              "      <td>114.95</td>\n",
              "      <td>1</td>\n",
              "      <td>549.0</td>\n",
              "      <td>4</td>\n",
              "    </tr>\n",
              "    <tr>\n",
              "      <th>5941</th>\n",
              "      <td>17318.0</td>\n",
              "      <td>1</td>\n",
              "      <td>1</td>\n",
              "      <td>164.28</td>\n",
              "      <td>1</td>\n",
              "      <td>725.0</td>\n",
              "      <td>4</td>\n",
              "    </tr>\n",
              "  </tbody>\n",
              "</table>\n",
              "<p>5942 rows × 7 columns</p>\n",
              "</div>"
            ],
            "text/plain": [
              "      Customer ID  Frequency  ...  Recency  recency_score\n",
              "0         14911.0        510  ...      1.0              1\n",
              "1         12748.0        365  ...      1.0              1\n",
              "2         17841.0        289  ...      2.0              1\n",
              "3         15311.0        270  ...      1.0              1\n",
              "4         14606.0        259  ...      1.0              1\n",
              "...           ...        ...  ...      ...            ...\n",
              "5937      17079.0          1  ...     78.0              2\n",
              "5938      17077.0          1  ...    578.0              4\n",
              "5939      13328.0          1  ...    316.0              3\n",
              "5940      15352.0          1  ...    549.0              4\n",
              "5941      17318.0          1  ...    725.0              4\n",
              "\n",
              "[5942 rows x 7 columns]"
            ]
          },
          "metadata": {},
          "execution_count": 28
        }
      ]
    },
    {
      "cell_type": "code",
      "metadata": {
        "colab": {
          "base_uri": "https://localhost:8080/",
          "height": 357
        },
        "id": "3dd3DHvf3cH4",
        "outputId": "0c8de9ab-5bb7-42c7-fa3a-13827df1a05f"
      },
      "source": [
        "sns.distplot(customers['Frequency'])\n",
        "#sns.distplot((customers['monetary']))\n",
        "#sns.distplot((customers['Recency']))"
      ],
      "execution_count": null,
      "outputs": [
        {
          "output_type": "stream",
          "name": "stderr",
          "text": [
            "/usr/local/lib/python3.7/dist-packages/seaborn/distributions.py:2619: FutureWarning: `distplot` is a deprecated function and will be removed in a future version. Please adapt your code to use either `displot` (a figure-level function with similar flexibility) or `histplot` (an axes-level function for histograms).\n",
            "  warnings.warn(msg, FutureWarning)\n"
          ]
        },
        {
          "output_type": "execute_result",
          "data": {
            "text/plain": [
              "<matplotlib.axes._subplots.AxesSubplot at 0x7fd651663750>"
            ]
          },
          "metadata": {},
          "execution_count": 29
        },
        {
          "output_type": "display_data",
          "data": {
            "image/png": "[encoded data removed]",
            "text/plain": [
              "<Figure size 432x288 with 1 Axes>"
            ]
          },
          "metadata": {
            "needs_background": "light"
          }
        }
      ]
    },
    {
      "cell_type": "code",
      "metadata": {
        "colab": {
          "base_uri": "https://localhost:8080/",
          "height": 300
        },
        "id": "T4JrPrQj4vpj",
        "outputId": "32a2dff6-dc5c-4071-a135-e85147113704"
      },
      "source": [
        "customers.describe()"
      ],
      "execution_count": null,
      "outputs": [
        {
          "output_type": "execute_result",
          "data": {
            "text/html": [
              "<div>\n",
              "<style scoped>\n",
              "    .dataframe tbody tr th:only-of-type {\n",
              "        vertical-align: middle;\n",
              "    }\n",
              "\n",
              "    .dataframe tbody tr th {\n",
              "        vertical-align: top;\n",
              "    }\n",
              "\n",
              "    .dataframe thead th {\n",
              "        text-align: right;\n",
              "    }\n",
              "</style>\n",
              "<table border=\"1\" class=\"dataframe\">\n",
              "  <thead>\n",
              "    <tr style=\"text-align: right;\">\n",
              "      <th></th>\n",
              "      <th>Customer ID</th>\n",
              "      <th>Frequency</th>\n",
              "      <th>freq_score</th>\n",
              "      <th>monetary</th>\n",
              "      <th>monetary_score</th>\n",
              "      <th>Recency</th>\n",
              "      <th>recency_score</th>\n",
              "    </tr>\n",
              "  </thead>\n",
              "  <tbody>\n",
              "    <tr>\n",
              "      <th>count</th>\n",
              "      <td>5942.000000</td>\n",
              "      <td>5942.000000</td>\n",
              "      <td>5942.000000</td>\n",
              "      <td>5942.000000</td>\n",
              "      <td>5942.000000</td>\n",
              "      <td>5942.000000</td>\n",
              "      <td>5942.000000</td>\n",
              "    </tr>\n",
              "    <tr>\n",
              "      <th>mean</th>\n",
              "      <td>15316.500000</td>\n",
              "      <td>7.552339</td>\n",
              "      <td>2.263548</td>\n",
              "      <td>2801.799459</td>\n",
              "      <td>2.500000</td>\n",
              "      <td>202.908617</td>\n",
              "      <td>2.492427</td>\n",
              "    </tr>\n",
              "    <tr>\n",
              "      <th>std</th>\n",
              "      <td>1715.451981</td>\n",
              "      <td>15.972262</td>\n",
              "      <td>1.204916</td>\n",
              "      <td>13973.922553</td>\n",
              "      <td>1.118279</td>\n",
              "      <td>211.857936</td>\n",
              "      <td>1.122909</td>\n",
              "    </tr>\n",
              "    <tr>\n",
              "      <th>min</th>\n",
              "      <td>12346.000000</td>\n",
              "      <td>1.000000</td>\n",
              "      <td>1.000000</td>\n",
              "      <td>-25111.090000</td>\n",
              "      <td>1.000000</td>\n",
              "      <td>1.000000</td>\n",
              "      <td>1.000000</td>\n",
              "    </tr>\n",
              "    <tr>\n",
              "      <th>25%</th>\n",
              "      <td>13831.250000</td>\n",
              "      <td>2.000000</td>\n",
              "      <td>1.000000</td>\n",
              "      <td>325.097500</td>\n",
              "      <td>1.250000</td>\n",
              "      <td>25.000000</td>\n",
              "      <td>1.000000</td>\n",
              "    </tr>\n",
              "    <tr>\n",
              "      <th>50%</th>\n",
              "      <td>15316.500000</td>\n",
              "      <td>4.000000</td>\n",
              "      <td>2.000000</td>\n",
              "      <td>843.970000</td>\n",
              "      <td>2.500000</td>\n",
              "      <td>96.000000</td>\n",
              "      <td>2.000000</td>\n",
              "    </tr>\n",
              "    <tr>\n",
              "      <th>75%</th>\n",
              "      <td>16801.750000</td>\n",
              "      <td>8.000000</td>\n",
              "      <td>3.000000</td>\n",
              "      <td>2182.005000</td>\n",
              "      <td>3.750000</td>\n",
              "      <td>381.000000</td>\n",
              "      <td>3.000000</td>\n",
              "    </tr>\n",
              "    <tr>\n",
              "      <th>max</th>\n",
              "      <td>18287.000000</td>\n",
              "      <td>510.000000</td>\n",
              "      <td>4.000000</td>\n",
              "      <td>598215.220000</td>\n",
              "      <td>4.000000</td>\n",
              "      <td>739.000000</td>\n",
              "      <td>4.000000</td>\n",
              "    </tr>\n",
              "  </tbody>\n",
              "</table>\n",
              "</div>"
            ],
            "text/plain": [
              "        Customer ID    Frequency  ...      Recency  recency_score\n",
              "count   5942.000000  5942.000000  ...  5942.000000    5942.000000\n",
              "mean   15316.500000     7.552339  ...   202.908617       2.492427\n",
              "std     1715.451981    15.972262  ...   211.857936       1.122909\n",
              "min    12346.000000     1.000000  ...     1.000000       1.000000\n",
              "25%    13831.250000     2.000000  ...    25.000000       1.000000\n",
              "50%    15316.500000     4.000000  ...    96.000000       2.000000\n",
              "75%    16801.750000     8.000000  ...   381.000000       3.000000\n",
              "max    18287.000000   510.000000  ...   739.000000       4.000000\n",
              "\n",
              "[8 rows x 7 columns]"
            ]
          },
          "metadata": {},
          "execution_count": 30
        }
      ]
    },
    {
      "cell_type": "code",
      "metadata": {
        "colab": {
          "base_uri": "https://localhost:8080/",
          "height": 423
        },
        "id": "fBlmcbWV2nVf",
        "outputId": "a2376885-da84-441b-d741-8173d634099e"
      },
      "source": [
        "customers['RFM'] = (customers.recency_score.astype(str)+ customers.freq_score.astype(str) + customers.monetary_score.astype(str)).astype(int)\n",
        "customers = customers.sort_values([\"RFM\"], ascending=False).reset_index()\n",
        "customers = customers.drop(columns=['index'])\n",
        "customers"
      ],
      "execution_count": null,
      "outputs": [
        {
          "output_type": "execute_result",
          "data": {
            "text/html": [
              "<div>\n",
              "<style scoped>\n",
              "    .dataframe tbody tr th:only-of-type {\n",
              "        vertical-align: middle;\n",
              "    }\n",
              "\n",
              "    .dataframe tbody tr th {\n",
              "        vertical-align: top;\n",
              "    }\n",
              "\n",
              "    .dataframe thead th {\n",
              "        text-align: right;\n",
              "    }\n",
              "</style>\n",
              "<table border=\"1\" class=\"dataframe\">\n",
              "  <thead>\n",
              "    <tr style=\"text-align: right;\">\n",
              "      <th></th>\n",
              "      <th>Customer ID</th>\n",
              "      <th>Frequency</th>\n",
              "      <th>freq_score</th>\n",
              "      <th>monetary</th>\n",
              "      <th>monetary_score</th>\n",
              "      <th>Recency</th>\n",
              "      <th>recency_score</th>\n",
              "      <th>RFM</th>\n",
              "    </tr>\n",
              "  </thead>\n",
              "  <tbody>\n",
              "    <tr>\n",
              "      <th>0</th>\n",
              "      <td>12835.0</td>\n",
              "      <td>49</td>\n",
              "      <td>4</td>\n",
              "      <td>6018.67</td>\n",
              "      <td>4</td>\n",
              "      <td>418.0</td>\n",
              "      <td>4</td>\n",
              "      <td>444</td>\n",
              "    </tr>\n",
              "    <tr>\n",
              "      <th>1</th>\n",
              "      <td>17465.0</td>\n",
              "      <td>9</td>\n",
              "      <td>4</td>\n",
              "      <td>2533.64</td>\n",
              "      <td>4</td>\n",
              "      <td>426.0</td>\n",
              "      <td>4</td>\n",
              "      <td>444</td>\n",
              "    </tr>\n",
              "    <tr>\n",
              "      <th>2</th>\n",
              "      <td>15633.0</td>\n",
              "      <td>18</td>\n",
              "      <td>4</td>\n",
              "      <td>4173.41</td>\n",
              "      <td>4</td>\n",
              "      <td>509.0</td>\n",
              "      <td>4</td>\n",
              "      <td>444</td>\n",
              "    </tr>\n",
              "    <tr>\n",
              "      <th>3</th>\n",
              "      <td>15538.0</td>\n",
              "      <td>11</td>\n",
              "      <td>4</td>\n",
              "      <td>3027.15</td>\n",
              "      <td>4</td>\n",
              "      <td>538.0</td>\n",
              "      <td>4</td>\n",
              "      <td>444</td>\n",
              "    </tr>\n",
              "    <tr>\n",
              "      <th>4</th>\n",
              "      <td>14685.0</td>\n",
              "      <td>13</td>\n",
              "      <td>4</td>\n",
              "      <td>4324.31</td>\n",
              "      <td>4</td>\n",
              "      <td>576.0</td>\n",
              "      <td>4</td>\n",
              "      <td>444</td>\n",
              "    </tr>\n",
              "    <tr>\n",
              "      <th>...</th>\n",
              "      <td>...</td>\n",
              "      <td>...</td>\n",
              "      <td>...</td>\n",
              "      <td>...</td>\n",
              "      <td>...</td>\n",
              "      <td>...</td>\n",
              "      <td>...</td>\n",
              "      <td>...</td>\n",
              "    </tr>\n",
              "    <tr>\n",
              "      <th>5937</th>\n",
              "      <td>14601.0</td>\n",
              "      <td>1</td>\n",
              "      <td>1</td>\n",
              "      <td>213.96</td>\n",
              "      <td>1</td>\n",
              "      <td>11.0</td>\n",
              "      <td>1</td>\n",
              "      <td>111</td>\n",
              "    </tr>\n",
              "    <tr>\n",
              "      <th>5938</th>\n",
              "      <td>12702.0</td>\n",
              "      <td>1</td>\n",
              "      <td>1</td>\n",
              "      <td>219.00</td>\n",
              "      <td>1</td>\n",
              "      <td>20.0</td>\n",
              "      <td>1</td>\n",
              "      <td>111</td>\n",
              "    </tr>\n",
              "    <tr>\n",
              "      <th>5939</th>\n",
              "      <td>13986.0</td>\n",
              "      <td>1</td>\n",
              "      <td>1</td>\n",
              "      <td>320.46</td>\n",
              "      <td>1</td>\n",
              "      <td>17.0</td>\n",
              "      <td>1</td>\n",
              "      <td>111</td>\n",
              "    </tr>\n",
              "    <tr>\n",
              "      <th>5940</th>\n",
              "      <td>15318.0</td>\n",
              "      <td>1</td>\n",
              "      <td>1</td>\n",
              "      <td>312.62</td>\n",
              "      <td>1</td>\n",
              "      <td>4.0</td>\n",
              "      <td>1</td>\n",
              "      <td>111</td>\n",
              "    </tr>\n",
              "    <tr>\n",
              "      <th>5941</th>\n",
              "      <td>14703.0</td>\n",
              "      <td>1</td>\n",
              "      <td>1</td>\n",
              "      <td>318.17</td>\n",
              "      <td>1</td>\n",
              "      <td>15.0</td>\n",
              "      <td>1</td>\n",
              "      <td>111</td>\n",
              "    </tr>\n",
              "  </tbody>\n",
              "</table>\n",
              "<p>5942 rows × 8 columns</p>\n",
              "</div>"
            ],
            "text/plain": [
              "      Customer ID  Frequency  freq_score  ...  Recency  recency_score  RFM\n",
              "0         12835.0         49           4  ...    418.0              4  444\n",
              "1         17465.0          9           4  ...    426.0              4  444\n",
              "2         15633.0         18           4  ...    509.0              4  444\n",
              "3         15538.0         11           4  ...    538.0              4  444\n",
              "4         14685.0         13           4  ...    576.0              4  444\n",
              "...           ...        ...         ...  ...      ...            ...  ...\n",
              "5937      14601.0          1           1  ...     11.0              1  111\n",
              "5938      12702.0          1           1  ...     20.0              1  111\n",
              "5939      13986.0          1           1  ...     17.0              1  111\n",
              "5940      15318.0          1           1  ...      4.0              1  111\n",
              "5941      14703.0          1           1  ...     15.0              1  111\n",
              "\n",
              "[5942 rows x 8 columns]"
            ]
          },
          "metadata": {},
          "execution_count": 31
        }
      ]
    },
    {
      "cell_type": "code",
      "metadata": {
        "id": "XZN4jzvt5Bze"
      },
      "source": [
        "customers['monetary'].replace(0,0.001,inplace=True)"
      ],
      "execution_count": null,
      "outputs": []
    },
    {
      "cell_type": "code",
      "metadata": {
        "colab": {
          "base_uri": "https://localhost:8080/"
        },
        "id": "nVjZG3eP7oO_",
        "outputId": "a22e7450-1d26-4f23-c5ec-0a0368a3ebac"
      },
      "source": [
        "(customers.monetary <0).value_counts()"
      ],
      "execution_count": null,
      "outputs": [
        {
          "output_type": "execute_result",
          "data": {
            "text/plain": [
              "False    5942\n",
              "Name: monetary, dtype: int64"
            ]
          },
          "metadata": {},
          "execution_count": 52
        }
      ]
    },
    {
      "cell_type": "code",
      "metadata": {
        "id": "I7CG0Pam7yYE"
      },
      "source": [
        "customers.monetary = customers.monetary.astype(str).str.replace('-', '').astype(float)"
      ],
      "execution_count": null,
      "outputs": []
    },
    {
      "cell_type": "code",
      "metadata": {
        "id": "JU6qWSl665Mj"
      },
      "source": [
        "# data is skewed so log transform and standard scaler helps to normalize it. \n",
        "customers['recency_log'] = customers['Recency'].apply(math.log)\n",
        "customers['frequency_log'] =customers['Frequency'].apply(math.log)\n",
        "customers['monetary_log'] =customers['monetary'].apply(math.log)\n",
        "scaler = StandardScaler()\n",
        "scaled_features = scaler.fit_transform(customers[['monetary_log', 'recency_log','frequency_log']])"
      ],
      "execution_count": null,
      "outputs": []
    },
    {
      "cell_type": "code",
      "metadata": {
        "colab": {
          "base_uri": "https://localhost:8080/",
          "height": 357
        },
        "id": "xgMDkNwT7Mux",
        "outputId": "fb21fb4e-66bb-4538-d31e-8c5af420b88d"
      },
      "source": [
        "sns.distplot((customers['monetary_log']))\n",
        "#sns.distplot((customers['frequency_log']))\n",
        "#sns.distplot((customers['recency_log']))"
      ],
      "execution_count": null,
      "outputs": [
        {
          "output_type": "stream",
          "name": "stderr",
          "text": [
            "/usr/local/lib/python3.7/dist-packages/seaborn/distributions.py:2619: FutureWarning: `distplot` is a deprecated function and will be removed in a future version. Please adapt your code to use either `displot` (a figure-level function with similar flexibility) or `histplot` (an axes-level function for histograms).\n",
            "  warnings.warn(msg, FutureWarning)\n"
          ]
        },
        {
          "output_type": "execute_result",
          "data": {
            "text/plain": [
              "<matplotlib.axes._subplots.AxesSubplot at 0x7fd656701310>"
            ]
          },
          "metadata": {},
          "execution_count": 98
        },
        {
          "output_type": "display_data",
          "data": {
            "image/png": "[encoded data removed]",
            "text/plain": [
              "<Figure size 432x288 with 1 Axes>"
            ]
          },
          "metadata": {}
        }
      ]
    },
    {
      "cell_type": "code",
      "metadata": {
        "id": "EvTmePjM8Sdb"
      },
      "source": [
        "kmeans = KMeans(n_clusters=4, init=\"random\", n_init=10, max_iter=500,random_state=75)\n",
        "kmeans.fit(scaled_features)\n",
        "customers['cluster'] = kmeans.labels_\n",
        "cluster_centers=kmeans.cluster_centers_"
      ],
      "execution_count": null,
      "outputs": []
    },
    {
      "cell_type": "code",
      "metadata": {
        "colab": {
          "base_uri": "https://localhost:8080/",
          "height": 400
        },
        "id": "DI5V03tDCbGK",
        "outputId": "de04ed00-9733-4ed0-b107-aae50e2b43de"
      },
      "source": [
        "customers.head(10)"
      ],
      "execution_count": null,
      "outputs": [
        {
          "output_type": "execute_result",
          "data": {
            "text/html": [
              "<div>\n",
              "<style scoped>\n",
              "    .dataframe tbody tr th:only-of-type {\n",
              "        vertical-align: middle;\n",
              "    }\n",
              "\n",
              "    .dataframe tbody tr th {\n",
              "        vertical-align: top;\n",
              "    }\n",
              "\n",
              "    .dataframe thead th {\n",
              "        text-align: right;\n",
              "    }\n",
              "</style>\n",
              "<table border=\"1\" class=\"dataframe\">\n",
              "  <thead>\n",
              "    <tr style=\"text-align: right;\">\n",
              "      <th></th>\n",
              "      <th>Customer ID</th>\n",
              "      <th>Frequency</th>\n",
              "      <th>freq_score</th>\n",
              "      <th>monetary</th>\n",
              "      <th>monetary_score</th>\n",
              "      <th>Recency</th>\n",
              "      <th>recency_score</th>\n",
              "      <th>RFM</th>\n",
              "      <th>recency_log</th>\n",
              "      <th>frequency_log</th>\n",
              "      <th>monetary_log</th>\n",
              "      <th>cluster</th>\n",
              "      <th>rfm_cluster</th>\n",
              "    </tr>\n",
              "  </thead>\n",
              "  <tbody>\n",
              "    <tr>\n",
              "      <th>0</th>\n",
              "      <td>12835.0</td>\n",
              "      <td>49</td>\n",
              "      <td>4</td>\n",
              "      <td>6018.670</td>\n",
              "      <td>4</td>\n",
              "      <td>418.0</td>\n",
              "      <td>4</td>\n",
              "      <td>444</td>\n",
              "      <td>6.035481</td>\n",
              "      <td>3.891820</td>\n",
              "      <td>8.702622</td>\n",
              "      <td>1</td>\n",
              "      <td>0</td>\n",
              "    </tr>\n",
              "    <tr>\n",
              "      <th>1</th>\n",
              "      <td>17465.0</td>\n",
              "      <td>9</td>\n",
              "      <td>4</td>\n",
              "      <td>2533.640</td>\n",
              "      <td>4</td>\n",
              "      <td>426.0</td>\n",
              "      <td>4</td>\n",
              "      <td>444</td>\n",
              "      <td>6.054439</td>\n",
              "      <td>2.197225</td>\n",
              "      <td>7.837412</td>\n",
              "      <td>1</td>\n",
              "      <td>0</td>\n",
              "    </tr>\n",
              "    <tr>\n",
              "      <th>2</th>\n",
              "      <td>15633.0</td>\n",
              "      <td>18</td>\n",
              "      <td>4</td>\n",
              "      <td>4173.410</td>\n",
              "      <td>4</td>\n",
              "      <td>509.0</td>\n",
              "      <td>4</td>\n",
              "      <td>444</td>\n",
              "      <td>6.232448</td>\n",
              "      <td>2.890372</td>\n",
              "      <td>8.336489</td>\n",
              "      <td>1</td>\n",
              "      <td>0</td>\n",
              "    </tr>\n",
              "    <tr>\n",
              "      <th>3</th>\n",
              "      <td>15538.0</td>\n",
              "      <td>11</td>\n",
              "      <td>4</td>\n",
              "      <td>3027.150</td>\n",
              "      <td>4</td>\n",
              "      <td>538.0</td>\n",
              "      <td>4</td>\n",
              "      <td>444</td>\n",
              "      <td>6.287859</td>\n",
              "      <td>2.397895</td>\n",
              "      <td>8.015377</td>\n",
              "      <td>1</td>\n",
              "      <td>0</td>\n",
              "    </tr>\n",
              "    <tr>\n",
              "      <th>4</th>\n",
              "      <td>14685.0</td>\n",
              "      <td>13</td>\n",
              "      <td>4</td>\n",
              "      <td>4324.310</td>\n",
              "      <td>4</td>\n",
              "      <td>576.0</td>\n",
              "      <td>4</td>\n",
              "      <td>444</td>\n",
              "      <td>6.356108</td>\n",
              "      <td>2.564949</td>\n",
              "      <td>8.372008</td>\n",
              "      <td>1</td>\n",
              "      <td>0</td>\n",
              "    </tr>\n",
              "    <tr>\n",
              "      <th>5</th>\n",
              "      <td>14590.0</td>\n",
              "      <td>28</td>\n",
              "      <td>4</td>\n",
              "      <td>2884.290</td>\n",
              "      <td>4</td>\n",
              "      <td>425.0</td>\n",
              "      <td>4</td>\n",
              "      <td>444</td>\n",
              "      <td>6.052089</td>\n",
              "      <td>3.332205</td>\n",
              "      <td>7.967034</td>\n",
              "      <td>1</td>\n",
              "      <td>0</td>\n",
              "    </tr>\n",
              "    <tr>\n",
              "      <th>6</th>\n",
              "      <td>15015.0</td>\n",
              "      <td>20</td>\n",
              "      <td>4</td>\n",
              "      <td>2275.820</td>\n",
              "      <td>4</td>\n",
              "      <td>501.0</td>\n",
              "      <td>4</td>\n",
              "      <td>444</td>\n",
              "      <td>6.216606</td>\n",
              "      <td>2.995732</td>\n",
              "      <td>7.730096</td>\n",
              "      <td>1</td>\n",
              "      <td>0</td>\n",
              "    </tr>\n",
              "    <tr>\n",
              "      <th>7</th>\n",
              "      <td>14025.0</td>\n",
              "      <td>10</td>\n",
              "      <td>4</td>\n",
              "      <td>3969.100</td>\n",
              "      <td>4</td>\n",
              "      <td>465.0</td>\n",
              "      <td>4</td>\n",
              "      <td>444</td>\n",
              "      <td>6.142037</td>\n",
              "      <td>2.302585</td>\n",
              "      <td>8.286295</td>\n",
              "      <td>1</td>\n",
              "      <td>0</td>\n",
              "    </tr>\n",
              "    <tr>\n",
              "      <th>8</th>\n",
              "      <td>14249.0</td>\n",
              "      <td>12</td>\n",
              "      <td>4</td>\n",
              "      <td>5625.461</td>\n",
              "      <td>4</td>\n",
              "      <td>411.0</td>\n",
              "      <td>4</td>\n",
              "      <td>444</td>\n",
              "      <td>6.018593</td>\n",
              "      <td>2.484907</td>\n",
              "      <td>8.635058</td>\n",
              "      <td>1</td>\n",
              "      <td>0</td>\n",
              "    </tr>\n",
              "    <tr>\n",
              "      <th>9</th>\n",
              "      <td>14134.0</td>\n",
              "      <td>15</td>\n",
              "      <td>4</td>\n",
              "      <td>11123.350</td>\n",
              "      <td>4</td>\n",
              "      <td>383.0</td>\n",
              "      <td>4</td>\n",
              "      <td>444</td>\n",
              "      <td>5.948035</td>\n",
              "      <td>2.708050</td>\n",
              "      <td>9.316802</td>\n",
              "      <td>1</td>\n",
              "      <td>0</td>\n",
              "    </tr>\n",
              "  </tbody>\n",
              "</table>\n",
              "</div>"
            ],
            "text/plain": [
              "   Customer ID  Frequency  freq_score  ...  monetary_log  cluster  rfm_cluster\n",
              "0      12835.0         49           4  ...      8.702622        1            0\n",
              "1      17465.0          9           4  ...      7.837412        1            0\n",
              "2      15633.0         18           4  ...      8.336489        1            0\n",
              "3      15538.0         11           4  ...      8.015377        1            0\n",
              "4      14685.0         13           4  ...      8.372008        1            0\n",
              "5      14590.0         28           4  ...      7.967034        1            0\n",
              "6      15015.0         20           4  ...      7.730096        1            0\n",
              "7      14025.0         10           4  ...      8.286295        1            0\n",
              "8      14249.0         12           4  ...      8.635058        1            0\n",
              "9      14134.0         15           4  ...      9.316802        1            0\n",
              "\n",
              "[10 rows x 13 columns]"
            ]
          },
          "metadata": {},
          "execution_count": 101
        }
      ]
    },
    {
      "cell_type": "code",
      "metadata": {
        "colab": {
          "base_uri": "https://localhost:8080/"
        },
        "id": "ZeGNy0VQspbR",
        "outputId": "16e32f31-51a3-4bcb-de16-9c1c5bed8d8d"
      },
      "source": [
        "features = ['monetary',  'Recency',  'Frequency']\n",
        "scaler.inverse_transform(kmeans.cluster_centers_)\n",
        "data_inversed = scaler.inverse_transform(cluster_centers)\n",
        "data_transformed=pd.DataFrame(np.exp(data_inversed),columns=features)\n",
        "data_transformed.reset_index(inplace=True)\n",
        "data_transformed.rename(columns={\"index\": \"Cluster\"},inplace=True)"
      ],
      "execution_count": null,
      "outputs": [
        {
          "output_type": "stream",
          "name": "stdout",
          "text": [
            "      Customer ID  Frequency  freq_score  ...  monetary_log  cluster  rfm_cluster\n",
            "0         12835.0         49           4  ...      8.702622        1            0\n",
            "1         17465.0          9           4  ...      7.837412        1            0\n",
            "2         15633.0         18           4  ...      8.336489        1            0\n",
            "3         15538.0         11           4  ...      8.015377        1            0\n",
            "4         14685.0         13           4  ...      8.372008        1            0\n",
            "...           ...        ...         ...  ...           ...      ...          ...\n",
            "5937      14601.0          1           1  ...      5.365789        2            3\n",
            "5938      12702.0          1           1  ...      5.389072        2            3\n",
            "5939      13986.0          1           1  ...      5.769757        2            3\n",
            "5940      15318.0          1           1  ...      5.744988        2            3\n",
            "5941      14703.0          1           1  ...      5.762586        2            3\n",
            "\n",
            "[5942 rows x 13 columns]\n"
          ]
        }
      ]
    },
    {
      "cell_type": "code",
      "metadata": {
        "colab": {
          "base_uri": "https://localhost:8080/",
          "height": 702
        },
        "id": "VIg9O6bxtMja",
        "outputId": "9b3e70c9-bc9f-4780-89e2-39dc85e40b56"
      },
      "source": [
        "sns.set_style(\"darkgrid\")\n",
        "fig = plt.figure(figsize=(16,11))\n",
        "f1 = fig.add_subplot(131)\n",
        "sns.set(font_scale =1)\n",
        "ax1=sns.boxplot(x=customers['cluster'],y=customers['monetary'])\n",
        "ax1.set_title('Monetary value', fontsize = 15)\n",
        "ax1.set_ylabel('Amount', fontsize =15)\n",
        "ax1.set_xlabel ('Cluster', fontsize = 15)\n",
        "ax1.set_ylim(top=20000,bottom=0)\n",
        "\n",
        "f1 = fig.add_subplot(132)\n",
        "sns.set(font_scale = 1)\n",
        "ax2=sns.boxplot(x=customers['cluster'],y=customers[ 'Recency'])\n",
        "ax2.set_title('Resency', fontsize =15)\n",
        "ax2.set_ylabel('Resency', fontsize =15)\n",
        "ax2.set_xlabel ('Cluster', fontsize = 15)\n",
        "ax2.set_ylim(top=800,bottom=0)\n",
        "\n",
        "f1 = fig.add_subplot(133)\n",
        "sns.set(font_scale = 1)\n",
        "ax3=sns.boxplot(x=customers['cluster'],y=customers[ 'Frequency'])\n",
        "ax3.set_title('Frequency', fontsize = 15)\n",
        "ax3.set_ylabel('Frequency', fontsize =15)\n",
        "ax3.set_xlabel ('Cluster', fontsize = 15)\n",
        "ax3.set_ylim(top=70,bottom=0)"
      ],
      "execution_count": null,
      "outputs": [
        {
          "output_type": "execute_result",
          "data": {
            "text/plain": [
              "(0.0, 70.0)"
            ]
          },
          "metadata": {},
          "execution_count": 93
        },
        {
          "output_type": "display_data",
          "data": {
            "image/png": "[encoded data removed]",
            "text/plain": [
              "<Figure size 1152x792 with 3 Axes>"
            ]
          },
          "metadata": {}
        }
      ]
    },
    {
      "cell_type": "markdown",
      "metadata": {
        "id": "91TnI7F4wLEE"
      },
      "source": [
        "**Cluster 0** are low spenders, low number of orders, and recent purchase was long ago.\n",
        "\n",
        "**Cluster 1** are promising customers. Recent Purchases but didn’t spend much.\n",
        "\n",
        "**Cluster 2** are the high and frequent purchasers. This group buy often, buy recently and spend the most. \n",
        "\n",
        "**Cluster 3** made big purchases, and often, but not recently."
      ]
    },
    {
      "cell_type": "markdown",
      "metadata": {
        "id": "GGDnnZNS0DUT"
      },
      "source": [
        "## How would you define a loyal customer?"
      ]
    },
    {
      "cell_type": "code",
      "metadata": {
        "colab": {
          "base_uri": "https://localhost:8080/"
        },
        "id": "As7EorkO0ZCk",
        "outputId": "ba1dd367-e55b-41fb-a4ac-e1d7cb68c71f"
      },
      "source": [
        "len(customers.RFM.unique())"
      ],
      "execution_count": null,
      "outputs": [
        {
          "output_type": "execute_result",
          "data": {
            "text/plain": [
              "63"
            ]
          },
          "metadata": {},
          "execution_count": 40
        }
      ]
    },
    {
      "cell_type": "code",
      "metadata": {
        "colab": {
          "base_uri": "https://localhost:8080/",
          "height": 461
        },
        "id": "YUllXI8E02dv",
        "outputId": "0f1ea00a-f6fa-4db8-e707-49b3dec1ba98"
      },
      "source": [
        "rfm_customer = customers\n",
        "rfm_customer['rfm_cluster']=0\n",
        "rfm_customer['rfm_cluster'] = pd.qcut(customer_recency['Recency'], 4, ['0','1','2','3']).astype(int)\n",
        "rfm_customer"
      ],
      "execution_count": null,
      "outputs": [
        {
          "output_type": "execute_result",
          "data": {
            "text/html": [
              "<div>\n",
              "<style scoped>\n",
              "    .dataframe tbody tr th:only-of-type {\n",
              "        vertical-align: middle;\n",
              "    }\n",
              "\n",
              "    .dataframe tbody tr th {\n",
              "        vertical-align: top;\n",
              "    }\n",
              "\n",
              "    .dataframe thead th {\n",
              "        text-align: right;\n",
              "    }\n",
              "</style>\n",
              "<table border=\"1\" class=\"dataframe\">\n",
              "  <thead>\n",
              "    <tr style=\"text-align: right;\">\n",
              "      <th></th>\n",
              "      <th>Customer ID</th>\n",
              "      <th>Frequency</th>\n",
              "      <th>freq_score</th>\n",
              "      <th>monetary</th>\n",
              "      <th>monetary_score</th>\n",
              "      <th>Recency</th>\n",
              "      <th>recency_score</th>\n",
              "      <th>RFM</th>\n",
              "      <th>recency_log</th>\n",
              "      <th>frequency_log</th>\n",
              "      <th>monetary_log</th>\n",
              "      <th>cluster</th>\n",
              "      <th>rfm_cluster</th>\n",
              "    </tr>\n",
              "  </thead>\n",
              "  <tbody>\n",
              "    <tr>\n",
              "      <th>0</th>\n",
              "      <td>12835.0</td>\n",
              "      <td>49</td>\n",
              "      <td>4</td>\n",
              "      <td>6018.67</td>\n",
              "      <td>4</td>\n",
              "      <td>418.0</td>\n",
              "      <td>4</td>\n",
              "      <td>444</td>\n",
              "      <td>6.035481</td>\n",
              "      <td>3.891820</td>\n",
              "      <td>8.702622</td>\n",
              "      <td>0</td>\n",
              "      <td>0</td>\n",
              "    </tr>\n",
              "    <tr>\n",
              "      <th>1</th>\n",
              "      <td>17465.0</td>\n",
              "      <td>9</td>\n",
              "      <td>4</td>\n",
              "      <td>2533.64</td>\n",
              "      <td>4</td>\n",
              "      <td>426.0</td>\n",
              "      <td>4</td>\n",
              "      <td>444</td>\n",
              "      <td>6.054439</td>\n",
              "      <td>2.197225</td>\n",
              "      <td>7.837412</td>\n",
              "      <td>2</td>\n",
              "      <td>0</td>\n",
              "    </tr>\n",
              "    <tr>\n",
              "      <th>2</th>\n",
              "      <td>15633.0</td>\n",
              "      <td>18</td>\n",
              "      <td>4</td>\n",
              "      <td>4173.41</td>\n",
              "      <td>4</td>\n",
              "      <td>509.0</td>\n",
              "      <td>4</td>\n",
              "      <td>444</td>\n",
              "      <td>6.232448</td>\n",
              "      <td>2.890372</td>\n",
              "      <td>8.336489</td>\n",
              "      <td>2</td>\n",
              "      <td>0</td>\n",
              "    </tr>\n",
              "    <tr>\n",
              "      <th>3</th>\n",
              "      <td>15538.0</td>\n",
              "      <td>11</td>\n",
              "      <td>4</td>\n",
              "      <td>3027.15</td>\n",
              "      <td>4</td>\n",
              "      <td>538.0</td>\n",
              "      <td>4</td>\n",
              "      <td>444</td>\n",
              "      <td>6.287859</td>\n",
              "      <td>2.397895</td>\n",
              "      <td>8.015377</td>\n",
              "      <td>2</td>\n",
              "      <td>0</td>\n",
              "    </tr>\n",
              "    <tr>\n",
              "      <th>4</th>\n",
              "      <td>14685.0</td>\n",
              "      <td>13</td>\n",
              "      <td>4</td>\n",
              "      <td>4324.31</td>\n",
              "      <td>4</td>\n",
              "      <td>576.0</td>\n",
              "      <td>4</td>\n",
              "      <td>444</td>\n",
              "      <td>6.356108</td>\n",
              "      <td>2.564949</td>\n",
              "      <td>8.372008</td>\n",
              "      <td>2</td>\n",
              "      <td>0</td>\n",
              "    </tr>\n",
              "    <tr>\n",
              "      <th>...</th>\n",
              "      <td>...</td>\n",
              "      <td>...</td>\n",
              "      <td>...</td>\n",
              "      <td>...</td>\n",
              "      <td>...</td>\n",
              "      <td>...</td>\n",
              "      <td>...</td>\n",
              "      <td>...</td>\n",
              "      <td>...</td>\n",
              "      <td>...</td>\n",
              "      <td>...</td>\n",
              "      <td>...</td>\n",
              "      <td>...</td>\n",
              "    </tr>\n",
              "    <tr>\n",
              "      <th>5937</th>\n",
              "      <td>14601.0</td>\n",
              "      <td>1</td>\n",
              "      <td>1</td>\n",
              "      <td>213.96</td>\n",
              "      <td>1</td>\n",
              "      <td>11.0</td>\n",
              "      <td>1</td>\n",
              "      <td>111</td>\n",
              "      <td>2.397895</td>\n",
              "      <td>0.000000</td>\n",
              "      <td>5.365789</td>\n",
              "      <td>3</td>\n",
              "      <td>3</td>\n",
              "    </tr>\n",
              "    <tr>\n",
              "      <th>5938</th>\n",
              "      <td>12702.0</td>\n",
              "      <td>1</td>\n",
              "      <td>1</td>\n",
              "      <td>219.00</td>\n",
              "      <td>1</td>\n",
              "      <td>20.0</td>\n",
              "      <td>1</td>\n",
              "      <td>111</td>\n",
              "      <td>2.995732</td>\n",
              "      <td>0.000000</td>\n",
              "      <td>5.389072</td>\n",
              "      <td>3</td>\n",
              "      <td>3</td>\n",
              "    </tr>\n",
              "    <tr>\n",
              "      <th>5939</th>\n",
              "      <td>13986.0</td>\n",
              "      <td>1</td>\n",
              "      <td>1</td>\n",
              "      <td>320.46</td>\n",
              "      <td>1</td>\n",
              "      <td>17.0</td>\n",
              "      <td>1</td>\n",
              "      <td>111</td>\n",
              "      <td>2.833213</td>\n",
              "      <td>0.000000</td>\n",
              "      <td>5.769757</td>\n",
              "      <td>3</td>\n",
              "      <td>3</td>\n",
              "    </tr>\n",
              "    <tr>\n",
              "      <th>5940</th>\n",
              "      <td>15318.0</td>\n",
              "      <td>1</td>\n",
              "      <td>1</td>\n",
              "      <td>312.62</td>\n",
              "      <td>1</td>\n",
              "      <td>4.0</td>\n",
              "      <td>1</td>\n",
              "      <td>111</td>\n",
              "      <td>1.386294</td>\n",
              "      <td>0.000000</td>\n",
              "      <td>5.744988</td>\n",
              "      <td>2</td>\n",
              "      <td>3</td>\n",
              "    </tr>\n",
              "    <tr>\n",
              "      <th>5941</th>\n",
              "      <td>14703.0</td>\n",
              "      <td>1</td>\n",
              "      <td>1</td>\n",
              "      <td>318.17</td>\n",
              "      <td>1</td>\n",
              "      <td>15.0</td>\n",
              "      <td>1</td>\n",
              "      <td>111</td>\n",
              "      <td>2.708050</td>\n",
              "      <td>0.000000</td>\n",
              "      <td>5.762586</td>\n",
              "      <td>3</td>\n",
              "      <td>3</td>\n",
              "    </tr>\n",
              "  </tbody>\n",
              "</table>\n",
              "<p>5942 rows × 13 columns</p>\n",
              "</div>"
            ],
            "text/plain": [
              "      Customer ID  Frequency  freq_score  ...  monetary_log  cluster  rfm_cluster\n",
              "0         12835.0         49           4  ...      8.702622        0            0\n",
              "1         17465.0          9           4  ...      7.837412        2            0\n",
              "2         15633.0         18           4  ...      8.336489        2            0\n",
              "3         15538.0         11           4  ...      8.015377        2            0\n",
              "4         14685.0         13           4  ...      8.372008        2            0\n",
              "...           ...        ...         ...  ...           ...      ...          ...\n",
              "5937      14601.0          1           1  ...      5.365789        3            3\n",
              "5938      12702.0          1           1  ...      5.389072        3            3\n",
              "5939      13986.0          1           1  ...      5.769757        3            3\n",
              "5940      15318.0          1           1  ...      5.744988        2            3\n",
              "5941      14703.0          1           1  ...      5.762586        3            3\n",
              "\n",
              "[5942 rows x 13 columns]"
            ]
          },
          "metadata": {},
          "execution_count": 41
        }
      ]
    },
    {
      "cell_type": "code",
      "metadata": {
        "colab": {
          "base_uri": "https://localhost:8080/",
          "height": 702
        },
        "id": "fViyghUy01kn",
        "outputId": "38238a7a-5c98-46eb-fbb2-c7776f230049"
      },
      "source": [
        "sns.set_style(\"darkgrid\")\n",
        "fig = plt.figure(figsize=(16,11))\n",
        "f1 = fig.add_subplot(131)\n",
        "sns.set(font_scale =1)\n",
        "ax1=sns.boxplot(x=rfm_customer['rfm_cluster'],y=rfm_customer['monetary'])\n",
        "ax1.set_title('Monetary value', fontsize = 15)\n",
        "ax1.set_ylabel('Amount', fontsize =15)\n",
        "ax1.set_xlabel ('Cluster', fontsize = 15)\n",
        "ax1.set_ylim(top=30000,bottom=0)\n",
        "\n",
        "f1 = fig.add_subplot(132)\n",
        "sns.set(font_scale = 1)\n",
        "ax2=sns.boxplot(x=rfm_customer['rfm_cluster'],y=rfm_customer[ 'Recency'])\n",
        "ax2.set_title('Recency', fontsize =15)\n",
        "ax2.set_ylabel('Recency', fontsize =15)\n",
        "ax2.set_xlabel ('Cluster', fontsize = 15)\n",
        "ax2.set_ylim(top=800,bottom=0)\n",
        "\n",
        "f1 = fig.add_subplot(133)\n",
        "sns.set(font_scale = 1)\n",
        "ax3=sns.boxplot(x=rfm_customer['rfm_cluster'],y=rfm_customer[ 'Frequency'])\n",
        "ax3.set_title('Frequency', fontsize = 15)\n",
        "ax3.set_ylabel('Frequency', fontsize =15)\n",
        "ax3.set_xlabel ('Cluster', fontsize = 15)\n",
        "ax3.set_ylim(top=70,bottom=0)"
      ],
      "execution_count": null,
      "outputs": [
        {
          "output_type": "execute_result",
          "data": {
            "text/plain": [
              "(0.0, 70.0)"
            ]
          },
          "metadata": {},
          "execution_count": 42
        },
        {
          "output_type": "display_data",
          "data": {
            "image/png": "[encoded data removed]",
            "text/plain": [
              "<Figure size 1152x792 with 3 Axes>"
            ]
          },
          "metadata": {}
        }
      ]
    },
    {
      "cell_type": "markdown",
      "metadata": {
        "id": "M41WLJOu9foh"
      },
      "source": [
        "**Cluster 0:** Lost Customers\n",
        "\n",
        "**Cluster 1:** Wandering Customers\n",
        "\n",
        "**Cluster 2:** Need Based Customers\n",
        "\n",
        "**Cluster 3:** This cluster tends to visit frequently and spends more than any other cluster, their last purchase was also not long ago. We can say these are the loyal customers"
      ]
    },
    {
      "cell_type": "markdown",
      "metadata": {
        "id": "TtjjY_tSAiUD"
      },
      "source": [
        "## What is the most popular time of year based on this sales data?"
      ]
    },
    {
      "cell_type": "code",
      "metadata": {
        "colab": {
          "base_uri": "https://localhost:8080/",
          "height": 539
        },
        "id": "GgWkwKphAnuR",
        "outputId": "9df57af2-6f5d-4884-fc20-22db026b9126"
      },
      "source": [
        "df_year = dataframe\n",
        "df_year[\"Year\"] = (df_year.InvoiceDate).dt.year\n",
        "df_year[\"Month\"] = (df_year.InvoiceDate).dt.month\n",
        "\n",
        "df_year.groupby('Year')['BillValue'].sum().plot(kind = 'bar')"
      ],
      "execution_count": null,
      "outputs": [
        {
          "output_type": "stream",
          "name": "stderr",
          "text": [
            "/usr/local/lib/python3.7/dist-packages/ipykernel_launcher.py:2: SettingWithCopyWarning: \n",
            "A value is trying to be set on a copy of a slice from a DataFrame.\n",
            "Try using .loc[row_indexer,col_indexer] = value instead\n",
            "\n",
            "See the caveats in the documentation: https://pandas.pydata.org/pandas-docs/stable/user_guide/indexing.html#returning-a-view-versus-a-copy\n",
            "  \n",
            "/usr/local/lib/python3.7/dist-packages/ipykernel_launcher.py:3: SettingWithCopyWarning: \n",
            "A value is trying to be set on a copy of a slice from a DataFrame.\n",
            "Try using .loc[row_indexer,col_indexer] = value instead\n",
            "\n",
            "See the caveats in the documentation: https://pandas.pydata.org/pandas-docs/stable/user_guide/indexing.html#returning-a-view-versus-a-copy\n",
            "  This is separate from the ipykernel package so we can avoid doing imports until\n"
          ]
        },
        {
          "output_type": "execute_result",
          "data": {
            "text/plain": [
              "<matplotlib.axes._subplots.AxesSubplot at 0x7fd66f7e2350>"
            ]
          },
          "metadata": {},
          "execution_count": 43
        },
        {
          "output_type": "display_data",
          "data": {
            "image/png": "[encoded data removed]",
            "text/plain": [
              "<Figure size 432x288 with 1 Axes>"
            ]
          },
          "metadata": {}
        }
      ]
    },
    {
      "cell_type": "code",
      "metadata": {
        "colab": {
          "base_uri": "https://localhost:8080/",
          "height": 746
        },
        "id": "Zl_wrJZxCFqR",
        "outputId": "7409a6f1-43df-453c-a724-632530418463"
      },
      "source": [
        "df_year.groupby(['Year','Month'])['BillValue'].sum().plot(kind = 'bar', title = 'Sales month wise',figsize=(16,11))"
      ],
      "execution_count": null,
      "outputs": [
        {
          "output_type": "execute_result",
          "data": {
            "text/plain": [
              "<matplotlib.axes._subplots.AxesSubplot at 0x7fd671e303d0>"
            ]
          },
          "metadata": {},
          "execution_count": 44
        },
        {
          "output_type": "display_data",
          "data": {
            "image/png": "[encoded data removed]",
            "text/plain": [
              "<Figure size 1152x792 with 1 Axes>"
            ]
          },
          "metadata": {}
        }
      ]
    },
    {
      "cell_type": "code",
      "metadata": {
        "colab": {
          "base_uri": "https://localhost:8080/"
        },
        "id": "n3SqlYo6CdIL",
        "outputId": "98f1247f-7df5-442a-cfcd-64e1c3ccec20"
      },
      "source": [
        "last_order_date = df_year['InvoiceDate'].max()\n",
        "last_order_date"
      ],
      "execution_count": null,
      "outputs": [
        {
          "output_type": "execute_result",
          "data": {
            "text/plain": [
              "Timestamp('2011-12-09 12:50:00')"
            ]
          },
          "metadata": {},
          "execution_count": 45
        }
      ]
    },
    {
      "cell_type": "markdown",
      "metadata": {
        "id": "8qNys3jnFm_L"
      },
      "source": [
        "According to the stastics in above bar plot we can se September, October and November is usually the most popular time. We have high sales in 2009 december and 2010 december as well but that trend did not continue to 2011. This is beacuse we only have data till 9 December 2011."
      ]
    },
    {
      "cell_type": "markdown",
      "metadata": {
        "id": "_0IVDx1roUZR"
      },
      "source": [
        "## Discuss customer's lifetime with respect to the given dataset."
      ]
    },
    {
      "cell_type": "code",
      "metadata": {
        "id": "-gUJuSXdpMlY"
      },
      "source": [
        "data_life = dataframe"
      ],
      "execution_count": null,
      "outputs": []
    },
    {
      "cell_type": "code",
      "metadata": {
        "colab": {
          "base_uri": "https://localhost:8080/",
          "height": 310
        },
        "id": "Ao99U-NGr0Dl",
        "outputId": "6c5ccff3-f028-4f2b-99c5-1b1aad094206"
      },
      "source": [
        "data_life.InvoiceDate = pd.to_datetime(data_life.InvoiceDate).dt.date\n",
        "data_life = data_life[pd.notnull(data_life['Customer ID'])]\n",
        "data_life = data_life[(data_life.Quantity >0)]\n",
        "data_life['Total_Sales'] = data_life.Quantity * data_life.Price\n",
        "columns = ['Customer ID', 'InvoiceDate', 'Total_Sales']\n",
        "data_life = data_life[columns]\n",
        "data_life.head()"
      ],
      "execution_count": null,
      "outputs": [
        {
          "output_type": "stream",
          "name": "stderr",
          "text": [
            "/usr/local/lib/python3.7/dist-packages/pandas/core/generic.py:5170: SettingWithCopyWarning: \n",
            "A value is trying to be set on a copy of a slice from a DataFrame.\n",
            "Try using .loc[row_indexer,col_indexer] = value instead\n",
            "\n",
            "See the caveats in the documentation: https://pandas.pydata.org/pandas-docs/stable/user_guide/indexing.html#returning-a-view-versus-a-copy\n",
            "  self[name] = value\n"
          ]
        },
        {
          "output_type": "execute_result",
          "data": {
            "text/html": [
              "<div>\n",
              "<style scoped>\n",
              "    .dataframe tbody tr th:only-of-type {\n",
              "        vertical-align: middle;\n",
              "    }\n",
              "\n",
              "    .dataframe tbody tr th {\n",
              "        vertical-align: top;\n",
              "    }\n",
              "\n",
              "    .dataframe thead th {\n",
              "        text-align: right;\n",
              "    }\n",
              "</style>\n",
              "<table border=\"1\" class=\"dataframe\">\n",
              "  <thead>\n",
              "    <tr style=\"text-align: right;\">\n",
              "      <th></th>\n",
              "      <th>Customer ID</th>\n",
              "      <th>InvoiceDate</th>\n",
              "      <th>Total_Sales</th>\n",
              "    </tr>\n",
              "  </thead>\n",
              "  <tbody>\n",
              "    <tr>\n",
              "      <th>22184</th>\n",
              "      <td>15061.0</td>\n",
              "      <td>2009-12-10</td>\n",
              "      <td>17.40</td>\n",
              "    </tr>\n",
              "    <tr>\n",
              "      <th>22185</th>\n",
              "      <td>15061.0</td>\n",
              "      <td>2009-12-10</td>\n",
              "      <td>82.50</td>\n",
              "    </tr>\n",
              "    <tr>\n",
              "      <th>22186</th>\n",
              "      <td>15061.0</td>\n",
              "      <td>2009-12-10</td>\n",
              "      <td>38.16</td>\n",
              "    </tr>\n",
              "    <tr>\n",
              "      <th>22187</th>\n",
              "      <td>15061.0</td>\n",
              "      <td>2009-12-10</td>\n",
              "      <td>139.20</td>\n",
              "    </tr>\n",
              "    <tr>\n",
              "      <th>22188</th>\n",
              "      <td>15061.0</td>\n",
              "      <td>2009-12-10</td>\n",
              "      <td>69.60</td>\n",
              "    </tr>\n",
              "  </tbody>\n",
              "</table>\n",
              "</div>"
            ],
            "text/plain": [
              "       Customer ID InvoiceDate  Total_Sales\n",
              "22184      15061.0  2009-12-10        17.40\n",
              "22185      15061.0  2009-12-10        82.50\n",
              "22186      15061.0  2009-12-10        38.16\n",
              "22187      15061.0  2009-12-10       139.20\n",
              "22188      15061.0  2009-12-10        69.60"
            ]
          },
          "metadata": {},
          "execution_count": 50
        }
      ]
    },
    {
      "cell_type": "code",
      "metadata": {
        "colab": {
          "base_uri": "https://localhost:8080/",
          "height": 423
        },
        "id": "34qL_d0FuQu8",
        "outputId": "31cd2f29-5022-47f5-899d-2d28b95098b5"
      },
      "source": [
        "from lifetimes.plotting import *\n",
        "from lifetimes.utils import *\n",
        "\n",
        "data_life = summary_data_from_transaction_data(data_life,customer_id_col= 'Customer ID',datetime_col= 'InvoiceDate', monetary_value_col='Total_Sales', observation_period_end='2011-12-9')\n",
        "data_life.reset_index()"
      ],
      "execution_count": null,
      "outputs": [
        {
          "output_type": "execute_result",
          "data": {
            "text/html": [
              "<div>\n",
              "<style scoped>\n",
              "    .dataframe tbody tr th:only-of-type {\n",
              "        vertical-align: middle;\n",
              "    }\n",
              "\n",
              "    .dataframe tbody tr th {\n",
              "        vertical-align: top;\n",
              "    }\n",
              "\n",
              "    .dataframe thead th {\n",
              "        text-align: right;\n",
              "    }\n",
              "</style>\n",
              "<table border=\"1\" class=\"dataframe\">\n",
              "  <thead>\n",
              "    <tr style=\"text-align: right;\">\n",
              "      <th></th>\n",
              "      <th>Customer ID</th>\n",
              "      <th>frequency</th>\n",
              "      <th>recency</th>\n",
              "      <th>T</th>\n",
              "      <th>monetary_value</th>\n",
              "    </tr>\n",
              "  </thead>\n",
              "  <tbody>\n",
              "    <tr>\n",
              "      <th>0</th>\n",
              "      <td>12346.0</td>\n",
              "      <td>10.0</td>\n",
              "      <td>400.0</td>\n",
              "      <td>725.0</td>\n",
              "      <td>15508.760000</td>\n",
              "    </tr>\n",
              "    <tr>\n",
              "      <th>1</th>\n",
              "      <td>12347.0</td>\n",
              "      <td>7.0</td>\n",
              "      <td>402.0</td>\n",
              "      <td>404.0</td>\n",
              "      <td>717.398571</td>\n",
              "    </tr>\n",
              "    <tr>\n",
              "      <th>2</th>\n",
              "      <td>12348.0</td>\n",
              "      <td>4.0</td>\n",
              "      <td>363.0</td>\n",
              "      <td>438.0</td>\n",
              "      <td>449.310000</td>\n",
              "    </tr>\n",
              "    <tr>\n",
              "      <th>3</th>\n",
              "      <td>12349.0</td>\n",
              "      <td>3.0</td>\n",
              "      <td>571.0</td>\n",
              "      <td>589.0</td>\n",
              "      <td>1120.056667</td>\n",
              "    </tr>\n",
              "    <tr>\n",
              "      <th>4</th>\n",
              "      <td>12350.0</td>\n",
              "      <td>0.0</td>\n",
              "      <td>0.0</td>\n",
              "      <td>310.0</td>\n",
              "      <td>0.000000</td>\n",
              "    </tr>\n",
              "    <tr>\n",
              "      <th>...</th>\n",
              "      <td>...</td>\n",
              "      <td>...</td>\n",
              "      <td>...</td>\n",
              "      <td>...</td>\n",
              "      <td>...</td>\n",
              "    </tr>\n",
              "    <tr>\n",
              "      <th>5882</th>\n",
              "      <td>18283.0</td>\n",
              "      <td>18.0</td>\n",
              "      <td>655.0</td>\n",
              "      <td>658.0</td>\n",
              "      <td>146.405556</td>\n",
              "    </tr>\n",
              "    <tr>\n",
              "      <th>5883</th>\n",
              "      <td>18284.0</td>\n",
              "      <td>1.0</td>\n",
              "      <td>2.0</td>\n",
              "      <td>431.0</td>\n",
              "      <td>25.000000</td>\n",
              "    </tr>\n",
              "    <tr>\n",
              "      <th>5884</th>\n",
              "      <td>18285.0</td>\n",
              "      <td>0.0</td>\n",
              "      <td>0.0</td>\n",
              "      <td>660.0</td>\n",
              "      <td>0.000000</td>\n",
              "    </tr>\n",
              "    <tr>\n",
              "      <th>5885</th>\n",
              "      <td>18286.0</td>\n",
              "      <td>2.0</td>\n",
              "      <td>247.0</td>\n",
              "      <td>723.0</td>\n",
              "      <td>470.740000</td>\n",
              "    </tr>\n",
              "    <tr>\n",
              "      <th>5886</th>\n",
              "      <td>18287.0</td>\n",
              "      <td>5.0</td>\n",
              "      <td>529.0</td>\n",
              "      <td>571.0</td>\n",
              "      <td>622.276000</td>\n",
              "    </tr>\n",
              "  </tbody>\n",
              "</table>\n",
              "<p>5887 rows × 5 columns</p>\n",
              "</div>"
            ],
            "text/plain": [
              "      Customer ID  frequency  recency      T  monetary_value\n",
              "0         12346.0       10.0    400.0  725.0    15508.760000\n",
              "1         12347.0        7.0    402.0  404.0      717.398571\n",
              "2         12348.0        4.0    363.0  438.0      449.310000\n",
              "3         12349.0        3.0    571.0  589.0     1120.056667\n",
              "4         12350.0        0.0      0.0  310.0        0.000000\n",
              "...           ...        ...      ...    ...             ...\n",
              "5882      18283.0       18.0    655.0  658.0      146.405556\n",
              "5883      18284.0        1.0      2.0  431.0       25.000000\n",
              "5884      18285.0        0.0      0.0  660.0        0.000000\n",
              "5885      18286.0        2.0    247.0  723.0      470.740000\n",
              "5886      18287.0        5.0    529.0  571.0      622.276000\n",
              "\n",
              "[5887 rows x 5 columns]"
            ]
          },
          "metadata": {},
          "execution_count": 104
        }
      ]
    },
    {
      "cell_type": "code",
      "metadata": {
        "colab": {
          "base_uri": "https://localhost:8080/",
          "height": 286
        },
        "id": "-LzO59d8ECZu",
        "outputId": "9038c84a-7525-416e-8820-c7a97b15f1d6"
      },
      "source": [
        "data_life.frequency.plot(kind='hist', bins=20)\n",
        "\n",
        "one_time_buyers = sum(data_life.frequency == 0)/float(len(data_life))*100\n",
        "print(\"Percentage of one time buyers:\", one_time_buyers)"
      ],
      "execution_count": null,
      "outputs": [
        {
          "output_type": "stream",
          "name": "stdout",
          "text": [
            "Percentage of one time buyers: 25.921521997621877\n"
          ]
        },
        {
          "output_type": "display_data",
          "data": {
            "image/png": "[encoded data removed]",
            "text/plain": [
              "<Figure size 432x288 with 1 Axes>"
            ]
          },
          "metadata": {}
        }
      ]
    },
    {
      "cell_type": "code",
      "metadata": {
        "colab": {
          "base_uri": "https://localhost:8080/"
        },
        "id": "mRAyGN7yEm7O",
        "outputId": "c31f5960-f6c1-4f20-af17-4652974ea23a"
      },
      "source": [
        "from lifetimes import BetaGeoFitter\n",
        "bgf = BetaGeoFitter(penalizer_coef=0.0)\n",
        "bgf.fit(data_life.frequency, data_life.recency, data_life['T'])\n",
        "print(bgf)"
      ],
      "execution_count": null,
      "outputs": [
        {
          "output_type": "stream",
          "name": "stdout",
          "text": [
            "<lifetimes.BetaGeoFitter: fitted with 5887 subjects, a: 0.14, alpha: 50.07, b: 1.99, r: 0.68>\n"
          ]
        }
      ]
    },
    {
      "cell_type": "code",
      "metadata": {
        "colab": {
          "base_uri": "https://localhost:8080/",
          "height": 531
        },
        "id": "jQWyyssfEqix",
        "outputId": "a72522fc-8a78-40e5-be36-e0a16931d7c4"
      },
      "source": [
        "fig = plt.figure(figsize=(10,7))\n",
        "plot_frequency_recency_matrix(bgf)"
      ],
      "execution_count": null,
      "outputs": [
        {
          "output_type": "stream",
          "name": "stderr",
          "text": [
            "/usr/local/lib/python3.7/dist-packages/lifetimes/fitters/beta_geo_fitter.py:256: RuntimeWarning: overflow encountered in double_scalars\n",
            "  denominator = 1 + (x > 0) * (a / (b + x - 1)) * ((alpha + T) / (alpha + recency)) ** (r + x)\n"
          ]
        },
        {
          "output_type": "execute_result",
          "data": {
            "text/plain": [
              "<matplotlib.axes._subplots.AxesSubplot at 0x7fd65bb0e890>"
            ]
          },
          "metadata": {},
          "execution_count": 108
        },
        {
          "output_type": "display_data",
          "data": {
            "image/png": "[encoded data removed]",
            "text/plain": [
              "<Figure size 720x504 with 2 Axes>"
            ]
          },
          "metadata": {}
        }
      ]
    },
    {
      "cell_type": "code",
      "metadata": {
        "colab": {
          "base_uri": "https://localhost:8080/",
          "height": 496
        },
        "id": "IKC1yH0nEtev",
        "outputId": "e9ea2042-5a3a-4081-a164-7d3bba2caeb0"
      },
      "source": [
        "fig = plt.figure(figsize=(10,7))\n",
        "plot_probability_alive_matrix(bgf)"
      ],
      "execution_count": null,
      "outputs": [
        {
          "output_type": "execute_result",
          "data": {
            "text/plain": [
              "<matplotlib.axes._subplots.AxesSubplot at 0x7fd6608d6150>"
            ]
          },
          "metadata": {},
          "execution_count": 109
        },
        {
          "output_type": "display_data",
          "data": {
            "image/png": "[encoded data removed]",
            "text/plain": [
              "<Figure size 720x504 with 2 Axes>"
            ]
          },
          "metadata": {}
        }
      ]
    },
    {
      "cell_type": "code",
      "metadata": {
        "colab": {
          "base_uri": "https://localhost:8080/",
          "height": 423
        },
        "id": "Xz2qbxdiEwNC",
        "outputId": "cce1b411-f966-4168-9161-cb89a3791cc2"
      },
      "source": [
        "data_life['pred_num_txn'] = bgf.conditional_expected_number_of_purchases_up_to_time(15, data_life.frequency, data_life.recency, data_life['T'])\n",
        "data_life.sort_values(by='pred_num_txn', ascending=False).reset_index()"
      ],
      "execution_count": null,
      "outputs": [
        {
          "output_type": "execute_result",
          "data": {
            "text/html": [
              "<div>\n",
              "<style scoped>\n",
              "    .dataframe tbody tr th:only-of-type {\n",
              "        vertical-align: middle;\n",
              "    }\n",
              "\n",
              "    .dataframe tbody tr th {\n",
              "        vertical-align: top;\n",
              "    }\n",
              "\n",
              "    .dataframe thead th {\n",
              "        text-align: right;\n",
              "    }\n",
              "</style>\n",
              "<table border=\"1\" class=\"dataframe\">\n",
              "  <thead>\n",
              "    <tr style=\"text-align: right;\">\n",
              "      <th></th>\n",
              "      <th>Customer ID</th>\n",
              "      <th>frequency</th>\n",
              "      <th>recency</th>\n",
              "      <th>T</th>\n",
              "      <th>monetary_value</th>\n",
              "      <th>pred_num_txn</th>\n",
              "    </tr>\n",
              "  </thead>\n",
              "  <tbody>\n",
              "    <tr>\n",
              "      <th>0</th>\n",
              "      <td>14911.0</td>\n",
              "      <td>281.0</td>\n",
              "      <td>728.0</td>\n",
              "      <td>729.0</td>\n",
              "      <td>1132.238007</td>\n",
              "      <td>5.412117e+00</td>\n",
              "    </tr>\n",
              "    <tr>\n",
              "      <th>1</th>\n",
              "      <td>12748.0</td>\n",
              "      <td>204.0</td>\n",
              "      <td>725.0</td>\n",
              "      <td>725.0</td>\n",
              "      <td>307.269706</td>\n",
              "      <td>3.953031e+00</td>\n",
              "    </tr>\n",
              "    <tr>\n",
              "      <th>2</th>\n",
              "      <td>15311.0</td>\n",
              "      <td>195.0</td>\n",
              "      <td>729.0</td>\n",
              "      <td>729.0</td>\n",
              "      <td>590.962103</td>\n",
              "      <td>3.759712e+00</td>\n",
              "    </tr>\n",
              "    <tr>\n",
              "      <th>3</th>\n",
              "      <td>17841.0</td>\n",
              "      <td>190.0</td>\n",
              "      <td>727.0</td>\n",
              "      <td>728.0</td>\n",
              "      <td>370.411211</td>\n",
              "      <td>3.667521e+00</td>\n",
              "    </tr>\n",
              "    <tr>\n",
              "      <th>4</th>\n",
              "      <td>14606.0</td>\n",
              "      <td>178.0</td>\n",
              "      <td>727.0</td>\n",
              "      <td>728.0</td>\n",
              "      <td>172.005674</td>\n",
              "      <td>3.436544e+00</td>\n",
              "    </tr>\n",
              "    <tr>\n",
              "      <th>...</th>\n",
              "      <td>...</td>\n",
              "      <td>...</td>\n",
              "      <td>...</td>\n",
              "      <td>...</td>\n",
              "      <td>...</td>\n",
              "      <td>...</td>\n",
              "    </tr>\n",
              "    <tr>\n",
              "      <th>5882</th>\n",
              "      <td>16754.0</td>\n",
              "      <td>20.0</td>\n",
              "      <td>269.0</td>\n",
              "      <td>641.0</td>\n",
              "      <td>3802.518000</td>\n",
              "      <td>7.640578e-06</td>\n",
              "    </tr>\n",
              "    <tr>\n",
              "      <th>5883</th>\n",
              "      <td>13446.0</td>\n",
              "      <td>17.0</td>\n",
              "      <td>243.0</td>\n",
              "      <td>663.0</td>\n",
              "      <td>212.572353</td>\n",
              "      <td>7.052174e-06</td>\n",
              "    </tr>\n",
              "    <tr>\n",
              "      <th>5884</th>\n",
              "      <td>15633.0</td>\n",
              "      <td>15.0</td>\n",
              "      <td>184.0</td>\n",
              "      <td>693.0</td>\n",
              "      <td>268.888000</td>\n",
              "      <td>4.881160e-07</td>\n",
              "    </tr>\n",
              "    <tr>\n",
              "      <th>5885</th>\n",
              "      <td>12835.0</td>\n",
              "      <td>35.0</td>\n",
              "      <td>310.0</td>\n",
              "      <td>728.0</td>\n",
              "      <td>153.436857</td>\n",
              "      <td>2.013840e-10</td>\n",
              "    </tr>\n",
              "    <tr>\n",
              "      <th>5886</th>\n",
              "      <td>13093.0</td>\n",
              "      <td>69.0</td>\n",
              "      <td>458.0</td>\n",
              "      <td>725.0</td>\n",
              "      <td>780.726087</td>\n",
              "      <td>1.106000e-10</td>\n",
              "    </tr>\n",
              "  </tbody>\n",
              "</table>\n",
              "<p>5887 rows × 6 columns</p>\n",
              "</div>"
            ],
            "text/plain": [
              "      Customer ID  frequency  recency      T  monetary_value  pred_num_txn\n",
              "0         14911.0      281.0    728.0  729.0     1132.238007  5.412117e+00\n",
              "1         12748.0      204.0    725.0  725.0      307.269706  3.953031e+00\n",
              "2         15311.0      195.0    729.0  729.0      590.962103  3.759712e+00\n",
              "3         17841.0      190.0    727.0  728.0      370.411211  3.667521e+00\n",
              "4         14606.0      178.0    727.0  728.0      172.005674  3.436544e+00\n",
              "...           ...        ...      ...    ...             ...           ...\n",
              "5882      16754.0       20.0    269.0  641.0     3802.518000  7.640578e-06\n",
              "5883      13446.0       17.0    243.0  663.0      212.572353  7.052174e-06\n",
              "5884      15633.0       15.0    184.0  693.0      268.888000  4.881160e-07\n",
              "5885      12835.0       35.0    310.0  728.0      153.436857  2.013840e-10\n",
              "5886      13093.0       69.0    458.0  725.0      780.726087  1.106000e-10\n",
              "\n",
              "[5887 rows x 6 columns]"
            ]
          },
          "metadata": {},
          "execution_count": 110
        }
      ]
    },
    {
      "cell_type": "code",
      "metadata": {
        "colab": {
          "base_uri": "https://localhost:8080/",
          "height": 315
        },
        "id": "k-PL9kZQEzqn",
        "outputId": "35c9191d-5c14-4712-a1b3-a73e229a0b0e"
      },
      "source": [
        "plot_period_transactions(bgf)"
      ],
      "execution_count": null,
      "outputs": [
        {
          "output_type": "execute_result",
          "data": {
            "text/plain": [
              "<matplotlib.axes._subplots.AxesSubplot at 0x7fd6623da210>"
            ]
          },
          "metadata": {},
          "execution_count": 111
        },
        {
          "output_type": "display_data",
          "data": {
            "image/png": "[encoded data removed]",
            "text/plain": [
              "<Figure size 432x288 with 1 Axes>"
            ]
          },
          "metadata": {}
        }
      ]
    },
    {
      "cell_type": "code",
      "metadata": {
        "colab": {
          "base_uri": "https://localhost:8080/",
          "height": 206
        },
        "id": "91sxw8H4E5lv",
        "outputId": "3239ebbf-01d4-4158-f23f-3295c63eed9b"
      },
      "source": [
        "data_life.corr()"
      ],
      "execution_count": null,
      "outputs": [
        {
          "output_type": "execute_result",
          "data": {
            "text/html": [
              "<div>\n",
              "<style scoped>\n",
              "    .dataframe tbody tr th:only-of-type {\n",
              "        vertical-align: middle;\n",
              "    }\n",
              "\n",
              "    .dataframe tbody tr th {\n",
              "        vertical-align: top;\n",
              "    }\n",
              "\n",
              "    .dataframe thead th {\n",
              "        text-align: right;\n",
              "    }\n",
              "</style>\n",
              "<table border=\"1\" class=\"dataframe\">\n",
              "  <thead>\n",
              "    <tr style=\"text-align: right;\">\n",
              "      <th></th>\n",
              "      <th>frequency</th>\n",
              "      <th>recency</th>\n",
              "      <th>T</th>\n",
              "      <th>monetary_value</th>\n",
              "      <th>pred_num_txn</th>\n",
              "    </tr>\n",
              "  </thead>\n",
              "  <tbody>\n",
              "    <tr>\n",
              "      <th>frequency</th>\n",
              "      <td>1.000000</td>\n",
              "      <td>0.514831</td>\n",
              "      <td>0.309839</td>\n",
              "      <td>0.041620</td>\n",
              "      <td>0.897177</td>\n",
              "    </tr>\n",
              "    <tr>\n",
              "      <th>recency</th>\n",
              "      <td>0.514831</td>\n",
              "      <td>1.000000</td>\n",
              "      <td>0.623989</td>\n",
              "      <td>0.065764</td>\n",
              "      <td>0.389500</td>\n",
              "    </tr>\n",
              "    <tr>\n",
              "      <th>T</th>\n",
              "      <td>0.309839</td>\n",
              "      <td>0.623989</td>\n",
              "      <td>1.000000</td>\n",
              "      <td>0.031258</td>\n",
              "      <td>0.018371</td>\n",
              "    </tr>\n",
              "    <tr>\n",
              "      <th>monetary_value</th>\n",
              "      <td>0.041620</td>\n",
              "      <td>0.065764</td>\n",
              "      <td>0.031258</td>\n",
              "      <td>1.000000</td>\n",
              "      <td>0.036443</td>\n",
              "    </tr>\n",
              "    <tr>\n",
              "      <th>pred_num_txn</th>\n",
              "      <td>0.897177</td>\n",
              "      <td>0.389500</td>\n",
              "      <td>0.018371</td>\n",
              "      <td>0.036443</td>\n",
              "      <td>1.000000</td>\n",
              "    </tr>\n",
              "  </tbody>\n",
              "</table>\n",
              "</div>"
            ],
            "text/plain": [
              "                frequency   recency         T  monetary_value  pred_num_txn\n",
              "frequency        1.000000  0.514831  0.309839        0.041620      0.897177\n",
              "recency          0.514831  1.000000  0.623989        0.065764      0.389500\n",
              "T                0.309839  0.623989  1.000000        0.031258      0.018371\n",
              "monetary_value   0.041620  0.065764  0.031258        1.000000      0.036443\n",
              "pred_num_txn     0.897177  0.389500  0.018371        0.036443      1.000000"
            ]
          },
          "metadata": {},
          "execution_count": 112
        }
      ]
    },
    {
      "cell_type": "code",
      "metadata": {
        "colab": {
          "base_uri": "https://localhost:8080/",
          "height": 423
        },
        "id": "P2_jZun4E8to",
        "outputId": "932573ff-5523-4fc1-9846-f4fe0d03eeac"
      },
      "source": [
        "shortlisted_customers = data_life[data_life.frequency >0]\n",
        "shortlisted_customers.reset_index()"
      ],
      "execution_count": null,
      "outputs": [
        {
          "output_type": "execute_result",
          "data": {
            "text/html": [
              "<div>\n",
              "<style scoped>\n",
              "    .dataframe tbody tr th:only-of-type {\n",
              "        vertical-align: middle;\n",
              "    }\n",
              "\n",
              "    .dataframe tbody tr th {\n",
              "        vertical-align: top;\n",
              "    }\n",
              "\n",
              "    .dataframe thead th {\n",
              "        text-align: right;\n",
              "    }\n",
              "</style>\n",
              "<table border=\"1\" class=\"dataframe\">\n",
              "  <thead>\n",
              "    <tr style=\"text-align: right;\">\n",
              "      <th></th>\n",
              "      <th>Customer ID</th>\n",
              "      <th>frequency</th>\n",
              "      <th>recency</th>\n",
              "      <th>T</th>\n",
              "      <th>monetary_value</th>\n",
              "      <th>pred_num_txn</th>\n",
              "    </tr>\n",
              "  </thead>\n",
              "  <tbody>\n",
              "    <tr>\n",
              "      <th>0</th>\n",
              "      <td>12346.0</td>\n",
              "      <td>10.0</td>\n",
              "      <td>400.0</td>\n",
              "      <td>725.0</td>\n",
              "      <td>15508.760000</td>\n",
              "      <td>0.039200</td>\n",
              "    </tr>\n",
              "    <tr>\n",
              "      <th>1</th>\n",
              "      <td>12347.0</td>\n",
              "      <td>7.0</td>\n",
              "      <td>402.0</td>\n",
              "      <td>404.0</td>\n",
              "      <td>717.398571</td>\n",
              "      <td>0.248461</td>\n",
              "    </tr>\n",
              "    <tr>\n",
              "      <th>2</th>\n",
              "      <td>12348.0</td>\n",
              "      <td>4.0</td>\n",
              "      <td>363.0</td>\n",
              "      <td>438.0</td>\n",
              "      <td>449.310000</td>\n",
              "      <td>0.135064</td>\n",
              "    </tr>\n",
              "    <tr>\n",
              "      <th>3</th>\n",
              "      <td>12349.0</td>\n",
              "      <td>3.0</td>\n",
              "      <td>571.0</td>\n",
              "      <td>589.0</td>\n",
              "      <td>1120.056667</td>\n",
              "      <td>0.082884</td>\n",
              "    </tr>\n",
              "    <tr>\n",
              "      <th>4</th>\n",
              "      <td>12352.0</td>\n",
              "      <td>8.0</td>\n",
              "      <td>356.0</td>\n",
              "      <td>392.0</td>\n",
              "      <td>458.340000</td>\n",
              "      <td>0.284366</td>\n",
              "    </tr>\n",
              "    <tr>\n",
              "      <th>...</th>\n",
              "      <td>...</td>\n",
              "      <td>...</td>\n",
              "      <td>...</td>\n",
              "      <td>...</td>\n",
              "      <td>...</td>\n",
              "      <td>...</td>\n",
              "    </tr>\n",
              "    <tr>\n",
              "      <th>4356</th>\n",
              "      <td>18282.0</td>\n",
              "      <td>2.0</td>\n",
              "      <td>119.0</td>\n",
              "      <td>126.0</td>\n",
              "      <td>39.645000</td>\n",
              "      <td>0.215418</td>\n",
              "    </tr>\n",
              "    <tr>\n",
              "      <th>4357</th>\n",
              "      <td>18283.0</td>\n",
              "      <td>18.0</td>\n",
              "      <td>655.0</td>\n",
              "      <td>658.0</td>\n",
              "      <td>146.405556</td>\n",
              "      <td>0.391900</td>\n",
              "    </tr>\n",
              "    <tr>\n",
              "      <th>4358</th>\n",
              "      <td>18284.0</td>\n",
              "      <td>1.0</td>\n",
              "      <td>2.0</td>\n",
              "      <td>431.0</td>\n",
              "      <td>25.000000</td>\n",
              "      <td>0.013207</td>\n",
              "    </tr>\n",
              "    <tr>\n",
              "      <th>4359</th>\n",
              "      <td>18286.0</td>\n",
              "      <td>2.0</td>\n",
              "      <td>247.0</td>\n",
              "      <td>723.0</td>\n",
              "      <td>470.740000</td>\n",
              "      <td>0.032184</td>\n",
              "    </tr>\n",
              "    <tr>\n",
              "      <th>4360</th>\n",
              "      <td>18287.0</td>\n",
              "      <td>5.0</td>\n",
              "      <td>529.0</td>\n",
              "      <td>571.0</td>\n",
              "      <td>622.276000</td>\n",
              "      <td>0.132218</td>\n",
              "    </tr>\n",
              "  </tbody>\n",
              "</table>\n",
              "<p>4361 rows × 6 columns</p>\n",
              "</div>"
            ],
            "text/plain": [
              "      Customer ID  frequency  recency      T  monetary_value  pred_num_txn\n",
              "0         12346.0       10.0    400.0  725.0    15508.760000      0.039200\n",
              "1         12347.0        7.0    402.0  404.0      717.398571      0.248461\n",
              "2         12348.0        4.0    363.0  438.0      449.310000      0.135064\n",
              "3         12349.0        3.0    571.0  589.0     1120.056667      0.082884\n",
              "4         12352.0        8.0    356.0  392.0      458.340000      0.284366\n",
              "...           ...        ...      ...    ...             ...           ...\n",
              "4356      18282.0        2.0    119.0  126.0       39.645000      0.215418\n",
              "4357      18283.0       18.0    655.0  658.0      146.405556      0.391900\n",
              "4358      18284.0        1.0      2.0  431.0       25.000000      0.013207\n",
              "4359      18286.0        2.0    247.0  723.0      470.740000      0.032184\n",
              "4360      18287.0        5.0    529.0  571.0      622.276000      0.132218\n",
              "\n",
              "[4361 rows x 6 columns]"
            ]
          },
          "metadata": {},
          "execution_count": 113
        }
      ]
    },
    {
      "cell_type": "code",
      "metadata": {
        "colab": {
          "base_uri": "https://localhost:8080/"
        },
        "id": "a_6yKfEhE_xE",
        "outputId": "562789a4-0308-4cc3-e352-f9123944bfc6"
      },
      "source": [
        "from lifetimes import GammaGammaFitter\n",
        "ggf = GammaGammaFitter(penalizer_coef = 0)\n",
        "ggf.fit(shortlisted_customers.frequency, shortlisted_customers.monetary_value)\n",
        "print(ggf)"
      ],
      "execution_count": null,
      "outputs": [
        {
          "output_type": "stream",
          "name": "stdout",
          "text": [
            "<lifetimes.GammaGammaFitter: fitted with 4361 subjects, p: 1.19, q: 3.82, v: 848.22>\n"
          ]
        }
      ]
    },
    {
      "cell_type": "code",
      "metadata": {
        "colab": {
          "base_uri": "https://localhost:8080/"
        },
        "id": "-E4xOKs3FD-i",
        "outputId": "6b0034b9-cb33-41a2-8019-0d08145ff551"
      },
      "source": [
        "ggf.conditional_expected_average_profit(data_life.frequency,data_life.monetary_value)"
      ],
      "execution_count": null,
      "outputs": [
        {
          "output_type": "execute_result",
          "data": {
            "text/plain": [
              "Customer ID\n",
              "12346.0    12598.705760\n",
              "12347.0      625.992125\n",
              "12348.0      414.835443\n",
              "12349.0      782.646046\n",
              "12350.0      356.825058\n",
              "               ...     \n",
              "18283.0      170.952414\n",
              "18284.0      258.568535\n",
              "18285.0      356.825058\n",
              "18286.0      408.875119\n",
              "18287.0      536.739836\n",
              "Length: 5887, dtype: float64"
            ]
          },
          "metadata": {},
          "execution_count": 117
        }
      ]
    },
    {
      "cell_type": "code",
      "metadata": {
        "colab": {
          "base_uri": "https://localhost:8080/",
          "height": 423
        },
        "id": "7TRLQCP4FHL-",
        "outputId": "82cf177e-8eb4-4999-9fd2-b5d36812c774"
      },
      "source": [
        "data_life['txn_value'] = ggf.conditional_expected_average_profit(data_life.frequency, data_life.monetary_value)\n",
        "data_life.reset_index()"
      ],
      "execution_count": null,
      "outputs": [
        {
          "output_type": "execute_result",
          "data": {
            "text/html": [
              "<div>\n",
              "<style scoped>\n",
              "    .dataframe tbody tr th:only-of-type {\n",
              "        vertical-align: middle;\n",
              "    }\n",
              "\n",
              "    .dataframe tbody tr th {\n",
              "        vertical-align: top;\n",
              "    }\n",
              "\n",
              "    .dataframe thead th {\n",
              "        text-align: right;\n",
              "    }\n",
              "</style>\n",
              "<table border=\"1\" class=\"dataframe\">\n",
              "  <thead>\n",
              "    <tr style=\"text-align: right;\">\n",
              "      <th></th>\n",
              "      <th>Customer ID</th>\n",
              "      <th>frequency</th>\n",
              "      <th>recency</th>\n",
              "      <th>T</th>\n",
              "      <th>monetary_value</th>\n",
              "      <th>pred_num_txn</th>\n",
              "      <th>txn_value</th>\n",
              "    </tr>\n",
              "  </thead>\n",
              "  <tbody>\n",
              "    <tr>\n",
              "      <th>0</th>\n",
              "      <td>12346.0</td>\n",
              "      <td>10.0</td>\n",
              "      <td>400.0</td>\n",
              "      <td>725.0</td>\n",
              "      <td>15508.760000</td>\n",
              "      <td>0.039200</td>\n",
              "      <td>12598.705760</td>\n",
              "    </tr>\n",
              "    <tr>\n",
              "      <th>1</th>\n",
              "      <td>12347.0</td>\n",
              "      <td>7.0</td>\n",
              "      <td>402.0</td>\n",
              "      <td>404.0</td>\n",
              "      <td>717.398571</td>\n",
              "      <td>0.248461</td>\n",
              "      <td>625.992125</td>\n",
              "    </tr>\n",
              "    <tr>\n",
              "      <th>2</th>\n",
              "      <td>12348.0</td>\n",
              "      <td>4.0</td>\n",
              "      <td>363.0</td>\n",
              "      <td>438.0</td>\n",
              "      <td>449.310000</td>\n",
              "      <td>0.135064</td>\n",
              "      <td>414.835443</td>\n",
              "    </tr>\n",
              "    <tr>\n",
              "      <th>3</th>\n",
              "      <td>12349.0</td>\n",
              "      <td>3.0</td>\n",
              "      <td>571.0</td>\n",
              "      <td>589.0</td>\n",
              "      <td>1120.056667</td>\n",
              "      <td>0.082884</td>\n",
              "      <td>782.646046</td>\n",
              "    </tr>\n",
              "    <tr>\n",
              "      <th>4</th>\n",
              "      <td>12350.0</td>\n",
              "      <td>0.0</td>\n",
              "      <td>0.0</td>\n",
              "      <td>310.0</td>\n",
              "      <td>0.000000</td>\n",
              "      <td>0.028086</td>\n",
              "      <td>356.825058</td>\n",
              "    </tr>\n",
              "    <tr>\n",
              "      <th>...</th>\n",
              "      <td>...</td>\n",
              "      <td>...</td>\n",
              "      <td>...</td>\n",
              "      <td>...</td>\n",
              "      <td>...</td>\n",
              "      <td>...</td>\n",
              "      <td>...</td>\n",
              "    </tr>\n",
              "    <tr>\n",
              "      <th>5882</th>\n",
              "      <td>18283.0</td>\n",
              "      <td>18.0</td>\n",
              "      <td>655.0</td>\n",
              "      <td>658.0</td>\n",
              "      <td>146.405556</td>\n",
              "      <td>0.391900</td>\n",
              "      <td>170.952414</td>\n",
              "    </tr>\n",
              "    <tr>\n",
              "      <th>5883</th>\n",
              "      <td>18284.0</td>\n",
              "      <td>1.0</td>\n",
              "      <td>2.0</td>\n",
              "      <td>431.0</td>\n",
              "      <td>25.000000</td>\n",
              "      <td>0.013207</td>\n",
              "      <td>258.568535</td>\n",
              "    </tr>\n",
              "    <tr>\n",
              "      <th>5884</th>\n",
              "      <td>18285.0</td>\n",
              "      <td>0.0</td>\n",
              "      <td>0.0</td>\n",
              "      <td>660.0</td>\n",
              "      <td>0.000000</td>\n",
              "      <td>0.014258</td>\n",
              "      <td>356.825058</td>\n",
              "    </tr>\n",
              "    <tr>\n",
              "      <th>5885</th>\n",
              "      <td>18286.0</td>\n",
              "      <td>2.0</td>\n",
              "      <td>247.0</td>\n",
              "      <td>723.0</td>\n",
              "      <td>470.740000</td>\n",
              "      <td>0.032184</td>\n",
              "      <td>408.875119</td>\n",
              "    </tr>\n",
              "    <tr>\n",
              "      <th>5886</th>\n",
              "      <td>18287.0</td>\n",
              "      <td>5.0</td>\n",
              "      <td>529.0</td>\n",
              "      <td>571.0</td>\n",
              "      <td>622.276000</td>\n",
              "      <td>0.132218</td>\n",
              "      <td>536.739836</td>\n",
              "    </tr>\n",
              "  </tbody>\n",
              "</table>\n",
              "<p>5887 rows × 7 columns</p>\n",
              "</div>"
            ],
            "text/plain": [
              "      Customer ID  frequency  ...  pred_num_txn     txn_value\n",
              "0         12346.0       10.0  ...      0.039200  12598.705760\n",
              "1         12347.0        7.0  ...      0.248461    625.992125\n",
              "2         12348.0        4.0  ...      0.135064    414.835443\n",
              "3         12349.0        3.0  ...      0.082884    782.646046\n",
              "4         12350.0        0.0  ...      0.028086    356.825058\n",
              "...           ...        ...  ...           ...           ...\n",
              "5882      18283.0       18.0  ...      0.391900    170.952414\n",
              "5883      18284.0        1.0  ...      0.013207    258.568535\n",
              "5884      18285.0        0.0  ...      0.014258    356.825058\n",
              "5885      18286.0        2.0  ...      0.032184    408.875119\n",
              "5886      18287.0        5.0  ...      0.132218    536.739836\n",
              "\n",
              "[5887 rows x 7 columns]"
            ]
          },
          "metadata": {},
          "execution_count": 118
        }
      ]
    },
    {
      "cell_type": "code",
      "metadata": {
        "colab": {
          "base_uri": "https://localhost:8080/",
          "height": 363
        },
        "id": "SlssBnDMFK48",
        "outputId": "aec0560b-02aa-47dd-970d-76a1a3a7a30b"
      },
      "source": [
        "data_life['Cust_life_value'] = round(ggf.customer_lifetime_value(bgf, data_life.frequency, data_life.recency, \n",
        "                                                      data_life['T'], data_life.monetary_value, time=12,\n",
        "                                                     discount_rate=0.01), 2)\n",
        "\n",
        "data_life.drop(data_life.iloc[:, 0:6], inplace=True, axis=1)\n",
        "\n",
        "data_life.sort_values(by='Cust_life_value', ascending=False).head(10).reset_index()"
      ],
      "execution_count": null,
      "outputs": [
        {
          "output_type": "execute_result",
          "data": {
            "text/html": [
              "<div>\n",
              "<style scoped>\n",
              "    .dataframe tbody tr th:only-of-type {\n",
              "        vertical-align: middle;\n",
              "    }\n",
              "\n",
              "    .dataframe tbody tr th {\n",
              "        vertical-align: top;\n",
              "    }\n",
              "\n",
              "    .dataframe thead th {\n",
              "        text-align: right;\n",
              "    }\n",
              "</style>\n",
              "<table border=\"1\" class=\"dataframe\">\n",
              "  <thead>\n",
              "    <tr style=\"text-align: right;\">\n",
              "      <th></th>\n",
              "      <th>Customer ID</th>\n",
              "      <th>Cust_life_value</th>\n",
              "    </tr>\n",
              "  </thead>\n",
              "  <tbody>\n",
              "    <tr>\n",
              "      <th>0</th>\n",
              "      <td>18102.0</td>\n",
              "      <td>241886.36</td>\n",
              "    </tr>\n",
              "    <tr>\n",
              "      <th>1</th>\n",
              "      <td>14646.0</td>\n",
              "      <td>220079.83</td>\n",
              "    </tr>\n",
              "    <tr>\n",
              "      <th>2</th>\n",
              "      <td>17450.0</td>\n",
              "      <td>139850.96</td>\n",
              "    </tr>\n",
              "    <tr>\n",
              "      <th>3</th>\n",
              "      <td>14156.0</td>\n",
              "      <td>137138.62</td>\n",
              "    </tr>\n",
              "    <tr>\n",
              "      <th>4</th>\n",
              "      <td>14096.0</td>\n",
              "      <td>134281.45</td>\n",
              "    </tr>\n",
              "    <tr>\n",
              "      <th>5</th>\n",
              "      <td>14911.0</td>\n",
              "      <td>133554.67</td>\n",
              "    </tr>\n",
              "    <tr>\n",
              "      <th>6</th>\n",
              "      <td>16446.0</td>\n",
              "      <td>133217.00</td>\n",
              "    </tr>\n",
              "    <tr>\n",
              "      <th>7</th>\n",
              "      <td>13694.0</td>\n",
              "      <td>76945.13</td>\n",
              "    </tr>\n",
              "    <tr>\n",
              "      <th>8</th>\n",
              "      <td>12415.0</td>\n",
              "      <td>74941.17</td>\n",
              "    </tr>\n",
              "    <tr>\n",
              "      <th>9</th>\n",
              "      <td>17511.0</td>\n",
              "      <td>70502.77</td>\n",
              "    </tr>\n",
              "  </tbody>\n",
              "</table>\n",
              "</div>"
            ],
            "text/plain": [
              "   Customer ID  Cust_life_value\n",
              "0      18102.0        241886.36\n",
              "1      14646.0        220079.83\n",
              "2      17450.0        139850.96\n",
              "3      14156.0        137138.62\n",
              "4      14096.0        134281.45\n",
              "5      14911.0        133554.67\n",
              "6      16446.0        133217.00\n",
              "7      13694.0         76945.13\n",
              "8      12415.0         74941.17\n",
              "9      17511.0         70502.77"
            ]
          },
          "metadata": {},
          "execution_count": 119
        }
      ]
    }
  ]
}